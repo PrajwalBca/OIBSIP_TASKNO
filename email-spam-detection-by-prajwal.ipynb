{
 "cells": [
  {
   "cell_type": "markdown",
   "id": "a8fd3178",
   "metadata": {
    "papermill": {
     "duration": 0.007426,
     "end_time": "2023-08-02T10:37:06.599944",
     "exception": false,
     "start_time": "2023-08-02T10:37:06.592518",
     "status": "completed"
    },
    "tags": []
   },
   "source": [
    "# DETECTION OF EMAIL SPAM WITH MACHINE LEARNING\n",
    "Each of us has received spam emails at some point. A sort of email known as spam mail, sometimes known as junk mail, is one that is sent to a large number of people at once and typically includes cryptic messages, con games, or—most dangerously—phishing content.\n",
    "In this project, I created an email spam detector using Python. I then trained the spam detector using machine learning to identify and categorize emails as spam or not."
   ]
  },
  {
   "cell_type": "code",
   "execution_count": 1,
   "id": "39be26e6",
   "metadata": {
    "_cell_guid": "b1076dfc-b9ad-4769-8c92-a6c4dae69d19",
    "_uuid": "8f2839f25d086af736a60e9eeb907d3b93b6e0e5",
    "execution": {
     "iopub.execute_input": "2023-08-02T10:37:06.616121Z",
     "iopub.status.busy": "2023-08-02T10:37:06.615466Z",
     "iopub.status.idle": "2023-08-02T10:37:06.624720Z",
     "shell.execute_reply": "2023-08-02T10:37:06.623891Z"
    },
    "papermill": {
     "duration": 0.019956,
     "end_time": "2023-08-02T10:37:06.626856",
     "exception": false,
     "start_time": "2023-08-02T10:37:06.606900",
     "status": "completed"
    },
    "tags": []
   },
   "outputs": [],
   "source": [
    "#Importing the libraries\n",
    "import numpy as np\n",
    "import pandas as pd\n",
    "import matplotlib.pyplot as plt\n",
    "import warnings\n",
    "warnings.filterwarnings(\"ignore\")\n"
   ]
  },
  {
   "cell_type": "code",
   "execution_count": 2,
   "id": "26bd13bb",
   "metadata": {
    "execution": {
     "iopub.execute_input": "2023-08-02T10:37:06.643685Z",
     "iopub.status.busy": "2023-08-02T10:37:06.642908Z",
     "iopub.status.idle": "2023-08-02T10:37:06.706817Z",
     "shell.execute_reply": "2023-08-02T10:37:06.705709Z"
    },
    "papermill": {
     "duration": 0.074524,
     "end_time": "2023-08-02T10:37:06.709161",
     "exception": false,
     "start_time": "2023-08-02T10:37:06.634637",
     "status": "completed"
    },
    "tags": []
   },
   "outputs": [
    {
     "data": {
      "text/html": [
       "<div>\n",
       "<style scoped>\n",
       "    .dataframe tbody tr th:only-of-type {\n",
       "        vertical-align: middle;\n",
       "    }\n",
       "\n",
       "    .dataframe tbody tr th {\n",
       "        vertical-align: top;\n",
       "    }\n",
       "\n",
       "    .dataframe thead th {\n",
       "        text-align: right;\n",
       "    }\n",
       "</style>\n",
       "<table border=\"1\" class=\"dataframe\">\n",
       "  <thead>\n",
       "    <tr style=\"text-align: right;\">\n",
       "      <th></th>\n",
       "      <th>v1</th>\n",
       "      <th>v2</th>\n",
       "      <th>Unnamed: 2</th>\n",
       "      <th>Unnamed: 3</th>\n",
       "      <th>Unnamed: 4</th>\n",
       "    </tr>\n",
       "  </thead>\n",
       "  <tbody>\n",
       "    <tr>\n",
       "      <th>0</th>\n",
       "      <td>ham</td>\n",
       "      <td>Go until jurong point, crazy.. Available only ...</td>\n",
       "      <td>NaN</td>\n",
       "      <td>NaN</td>\n",
       "      <td>NaN</td>\n",
       "    </tr>\n",
       "    <tr>\n",
       "      <th>1</th>\n",
       "      <td>ham</td>\n",
       "      <td>Ok lar... Joking wif u oni...</td>\n",
       "      <td>NaN</td>\n",
       "      <td>NaN</td>\n",
       "      <td>NaN</td>\n",
       "    </tr>\n",
       "    <tr>\n",
       "      <th>2</th>\n",
       "      <td>spam</td>\n",
       "      <td>Free entry in 2 a wkly comp to win FA Cup fina...</td>\n",
       "      <td>NaN</td>\n",
       "      <td>NaN</td>\n",
       "      <td>NaN</td>\n",
       "    </tr>\n",
       "    <tr>\n",
       "      <th>3</th>\n",
       "      <td>ham</td>\n",
       "      <td>U dun say so early hor... U c already then say...</td>\n",
       "      <td>NaN</td>\n",
       "      <td>NaN</td>\n",
       "      <td>NaN</td>\n",
       "    </tr>\n",
       "    <tr>\n",
       "      <th>4</th>\n",
       "      <td>ham</td>\n",
       "      <td>Nah I don't think he goes to usf, he lives aro...</td>\n",
       "      <td>NaN</td>\n",
       "      <td>NaN</td>\n",
       "      <td>NaN</td>\n",
       "    </tr>\n",
       "    <tr>\n",
       "      <th>...</th>\n",
       "      <td>...</td>\n",
       "      <td>...</td>\n",
       "      <td>...</td>\n",
       "      <td>...</td>\n",
       "      <td>...</td>\n",
       "    </tr>\n",
       "    <tr>\n",
       "      <th>5567</th>\n",
       "      <td>spam</td>\n",
       "      <td>This is the 2nd time we have tried 2 contact u...</td>\n",
       "      <td>NaN</td>\n",
       "      <td>NaN</td>\n",
       "      <td>NaN</td>\n",
       "    </tr>\n",
       "    <tr>\n",
       "      <th>5568</th>\n",
       "      <td>ham</td>\n",
       "      <td>Will Ì_ b going to esplanade fr home?</td>\n",
       "      <td>NaN</td>\n",
       "      <td>NaN</td>\n",
       "      <td>NaN</td>\n",
       "    </tr>\n",
       "    <tr>\n",
       "      <th>5569</th>\n",
       "      <td>ham</td>\n",
       "      <td>Pity, * was in mood for that. So...any other s...</td>\n",
       "      <td>NaN</td>\n",
       "      <td>NaN</td>\n",
       "      <td>NaN</td>\n",
       "    </tr>\n",
       "    <tr>\n",
       "      <th>5570</th>\n",
       "      <td>ham</td>\n",
       "      <td>The guy did some bitching but I acted like i'd...</td>\n",
       "      <td>NaN</td>\n",
       "      <td>NaN</td>\n",
       "      <td>NaN</td>\n",
       "    </tr>\n",
       "    <tr>\n",
       "      <th>5571</th>\n",
       "      <td>ham</td>\n",
       "      <td>Rofl. Its true to its name</td>\n",
       "      <td>NaN</td>\n",
       "      <td>NaN</td>\n",
       "      <td>NaN</td>\n",
       "    </tr>\n",
       "  </tbody>\n",
       "</table>\n",
       "<p>5572 rows × 5 columns</p>\n",
       "</div>"
      ],
      "text/plain": [
       "        v1                                                 v2 Unnamed: 2  \\\n",
       "0      ham  Go until jurong point, crazy.. Available only ...        NaN   \n",
       "1      ham                      Ok lar... Joking wif u oni...        NaN   \n",
       "2     spam  Free entry in 2 a wkly comp to win FA Cup fina...        NaN   \n",
       "3      ham  U dun say so early hor... U c already then say...        NaN   \n",
       "4      ham  Nah I don't think he goes to usf, he lives aro...        NaN   \n",
       "...    ...                                                ...        ...   \n",
       "5567  spam  This is the 2nd time we have tried 2 contact u...        NaN   \n",
       "5568   ham              Will Ì_ b going to esplanade fr home?        NaN   \n",
       "5569   ham  Pity, * was in mood for that. So...any other s...        NaN   \n",
       "5570   ham  The guy did some bitching but I acted like i'd...        NaN   \n",
       "5571   ham                         Rofl. Its true to its name        NaN   \n",
       "\n",
       "     Unnamed: 3 Unnamed: 4  \n",
       "0           NaN        NaN  \n",
       "1           NaN        NaN  \n",
       "2           NaN        NaN  \n",
       "3           NaN        NaN  \n",
       "4           NaN        NaN  \n",
       "...         ...        ...  \n",
       "5567        NaN        NaN  \n",
       "5568        NaN        NaN  \n",
       "5569        NaN        NaN  \n",
       "5570        NaN        NaN  \n",
       "5571        NaN        NaN  \n",
       "\n",
       "[5572 rows x 5 columns]"
      ]
     },
     "execution_count": 2,
     "metadata": {},
     "output_type": "execute_result"
    }
   ],
   "source": [
    "#Loading the dataset\n",
    "data = pd.read_csv(\"/kaggle/input/sms-spam-collection-dataset/spam.csv\", encoding='Latin-1')\n",
    "data"
   ]
  },
  {
   "cell_type": "code",
   "execution_count": 3,
   "id": "3ba7dc77",
   "metadata": {
    "execution": {
     "iopub.execute_input": "2023-08-02T10:37:06.725198Z",
     "iopub.status.busy": "2023-08-02T10:37:06.724805Z",
     "iopub.status.idle": "2023-08-02T10:37:06.735255Z",
     "shell.execute_reply": "2023-08-02T10:37:06.734435Z"
    },
    "papermill": {
     "duration": 0.021156,
     "end_time": "2023-08-02T10:37:06.737347",
     "exception": false,
     "start_time": "2023-08-02T10:37:06.716191",
     "status": "completed"
    },
    "tags": []
   },
   "outputs": [
    {
     "data": {
      "text/html": [
       "<div>\n",
       "<style scoped>\n",
       "    .dataframe tbody tr th:only-of-type {\n",
       "        vertical-align: middle;\n",
       "    }\n",
       "\n",
       "    .dataframe tbody tr th {\n",
       "        vertical-align: top;\n",
       "    }\n",
       "\n",
       "    .dataframe thead th {\n",
       "        text-align: right;\n",
       "    }\n",
       "</style>\n",
       "<table border=\"1\" class=\"dataframe\">\n",
       "  <thead>\n",
       "    <tr style=\"text-align: right;\">\n",
       "      <th></th>\n",
       "      <th>v1</th>\n",
       "      <th>v2</th>\n",
       "      <th>Unnamed: 2</th>\n",
       "      <th>Unnamed: 3</th>\n",
       "      <th>Unnamed: 4</th>\n",
       "    </tr>\n",
       "  </thead>\n",
       "  <tbody>\n",
       "    <tr>\n",
       "      <th>0</th>\n",
       "      <td>ham</td>\n",
       "      <td>Go until jurong point, crazy.. Available only ...</td>\n",
       "      <td>NaN</td>\n",
       "      <td>NaN</td>\n",
       "      <td>NaN</td>\n",
       "    </tr>\n",
       "    <tr>\n",
       "      <th>1</th>\n",
       "      <td>ham</td>\n",
       "      <td>Ok lar... Joking wif u oni...</td>\n",
       "      <td>NaN</td>\n",
       "      <td>NaN</td>\n",
       "      <td>NaN</td>\n",
       "    </tr>\n",
       "    <tr>\n",
       "      <th>2</th>\n",
       "      <td>spam</td>\n",
       "      <td>Free entry in 2 a wkly comp to win FA Cup fina...</td>\n",
       "      <td>NaN</td>\n",
       "      <td>NaN</td>\n",
       "      <td>NaN</td>\n",
       "    </tr>\n",
       "    <tr>\n",
       "      <th>3</th>\n",
       "      <td>ham</td>\n",
       "      <td>U dun say so early hor... U c already then say...</td>\n",
       "      <td>NaN</td>\n",
       "      <td>NaN</td>\n",
       "      <td>NaN</td>\n",
       "    </tr>\n",
       "    <tr>\n",
       "      <th>4</th>\n",
       "      <td>ham</td>\n",
       "      <td>Nah I don't think he goes to usf, he lives aro...</td>\n",
       "      <td>NaN</td>\n",
       "      <td>NaN</td>\n",
       "      <td>NaN</td>\n",
       "    </tr>\n",
       "  </tbody>\n",
       "</table>\n",
       "</div>"
      ],
      "text/plain": [
       "     v1                                                 v2 Unnamed: 2  \\\n",
       "0   ham  Go until jurong point, crazy.. Available only ...        NaN   \n",
       "1   ham                      Ok lar... Joking wif u oni...        NaN   \n",
       "2  spam  Free entry in 2 a wkly comp to win FA Cup fina...        NaN   \n",
       "3   ham  U dun say so early hor... U c already then say...        NaN   \n",
       "4   ham  Nah I don't think he goes to usf, he lives aro...        NaN   \n",
       "\n",
       "  Unnamed: 3 Unnamed: 4  \n",
       "0        NaN        NaN  \n",
       "1        NaN        NaN  \n",
       "2        NaN        NaN  \n",
       "3        NaN        NaN  \n",
       "4        NaN        NaN  "
      ]
     },
     "execution_count": 3,
     "metadata": {},
     "output_type": "execute_result"
    }
   ],
   "source": [
    "data.head()"
   ]
  },
  {
   "cell_type": "code",
   "execution_count": 4,
   "id": "6e5ff492",
   "metadata": {
    "execution": {
     "iopub.execute_input": "2023-08-02T10:37:06.754571Z",
     "iopub.status.busy": "2023-08-02T10:37:06.753781Z",
     "iopub.status.idle": "2023-08-02T10:37:06.784365Z",
     "shell.execute_reply": "2023-08-02T10:37:06.783186Z"
    },
    "papermill": {
     "duration": 0.041827,
     "end_time": "2023-08-02T10:37:06.786699",
     "exception": false,
     "start_time": "2023-08-02T10:37:06.744872",
     "status": "completed"
    },
    "tags": []
   },
   "outputs": [
    {
     "name": "stdout",
     "output_type": "stream",
     "text": [
      "<class 'pandas.core.frame.DataFrame'>\n",
      "RangeIndex: 5572 entries, 0 to 5571\n",
      "Data columns (total 5 columns):\n",
      " #   Column      Non-Null Count  Dtype \n",
      "---  ------      --------------  ----- \n",
      " 0   v1          5572 non-null   object\n",
      " 1   v2          5572 non-null   object\n",
      " 2   Unnamed: 2  50 non-null     object\n",
      " 3   Unnamed: 3  12 non-null     object\n",
      " 4   Unnamed: 4  6 non-null      object\n",
      "dtypes: object(5)\n",
      "memory usage: 217.8+ KB\n"
     ]
    }
   ],
   "source": [
    "data.info()"
   ]
  },
  {
   "cell_type": "code",
   "execution_count": 5,
   "id": "604ddb8d",
   "metadata": {
    "execution": {
     "iopub.execute_input": "2023-08-02T10:37:06.804643Z",
     "iopub.status.busy": "2023-08-02T10:37:06.804238Z",
     "iopub.status.idle": "2023-08-02T10:37:06.831610Z",
     "shell.execute_reply": "2023-08-02T10:37:06.830538Z"
    },
    "papermill": {
     "duration": 0.039826,
     "end_time": "2023-08-02T10:37:06.834037",
     "exception": false,
     "start_time": "2023-08-02T10:37:06.794211",
     "status": "completed"
    },
    "tags": []
   },
   "outputs": [
    {
     "data": {
      "text/html": [
       "<div>\n",
       "<style scoped>\n",
       "    .dataframe tbody tr th:only-of-type {\n",
       "        vertical-align: middle;\n",
       "    }\n",
       "\n",
       "    .dataframe tbody tr th {\n",
       "        vertical-align: top;\n",
       "    }\n",
       "\n",
       "    .dataframe thead th {\n",
       "        text-align: right;\n",
       "    }\n",
       "</style>\n",
       "<table border=\"1\" class=\"dataframe\">\n",
       "  <thead>\n",
       "    <tr style=\"text-align: right;\">\n",
       "      <th></th>\n",
       "      <th>v1</th>\n",
       "      <th>v2</th>\n",
       "      <th>Unnamed: 2</th>\n",
       "      <th>Unnamed: 3</th>\n",
       "      <th>Unnamed: 4</th>\n",
       "    </tr>\n",
       "  </thead>\n",
       "  <tbody>\n",
       "    <tr>\n",
       "      <th>count</th>\n",
       "      <td>5572</td>\n",
       "      <td>5572</td>\n",
       "      <td>50</td>\n",
       "      <td>12</td>\n",
       "      <td>6</td>\n",
       "    </tr>\n",
       "    <tr>\n",
       "      <th>unique</th>\n",
       "      <td>2</td>\n",
       "      <td>5169</td>\n",
       "      <td>43</td>\n",
       "      <td>10</td>\n",
       "      <td>5</td>\n",
       "    </tr>\n",
       "    <tr>\n",
       "      <th>top</th>\n",
       "      <td>ham</td>\n",
       "      <td>Sorry, I'll call later</td>\n",
       "      <td>bt not his girlfrnd... G o o d n i g h t . . .@\"</td>\n",
       "      <td>MK17 92H. 450Ppw 16\"</td>\n",
       "      <td>GNT:-)\"</td>\n",
       "    </tr>\n",
       "    <tr>\n",
       "      <th>freq</th>\n",
       "      <td>4825</td>\n",
       "      <td>30</td>\n",
       "      <td>3</td>\n",
       "      <td>2</td>\n",
       "      <td>2</td>\n",
       "    </tr>\n",
       "  </tbody>\n",
       "</table>\n",
       "</div>"
      ],
      "text/plain": [
       "          v1                      v2  \\\n",
       "count   5572                    5572   \n",
       "unique     2                    5169   \n",
       "top      ham  Sorry, I'll call later   \n",
       "freq    4825                      30   \n",
       "\n",
       "                                               Unnamed: 2  \\\n",
       "count                                                  50   \n",
       "unique                                                 43   \n",
       "top      bt not his girlfrnd... G o o d n i g h t . . .@\"   \n",
       "freq                                                    3   \n",
       "\n",
       "                   Unnamed: 3 Unnamed: 4  \n",
       "count                      12          6  \n",
       "unique                     10          5  \n",
       "top      MK17 92H. 450Ppw 16\"    GNT:-)\"  \n",
       "freq                        2          2  "
      ]
     },
     "execution_count": 5,
     "metadata": {},
     "output_type": "execute_result"
    }
   ],
   "source": [
    "data.describe()"
   ]
  },
  {
   "cell_type": "code",
   "execution_count": 6,
   "id": "73465394",
   "metadata": {
    "execution": {
     "iopub.execute_input": "2023-08-02T10:37:06.851429Z",
     "iopub.status.busy": "2023-08-02T10:37:06.851037Z",
     "iopub.status.idle": "2023-08-02T10:37:06.863101Z",
     "shell.execute_reply": "2023-08-02T10:37:06.862036Z"
    },
    "papermill": {
     "duration": 0.023737,
     "end_time": "2023-08-02T10:37:06.865516",
     "exception": false,
     "start_time": "2023-08-02T10:37:06.841779",
     "status": "completed"
    },
    "tags": []
   },
   "outputs": [
    {
     "data": {
      "text/plain": [
       "v1               0\n",
       "v2               0\n",
       "Unnamed: 2    5522\n",
       "Unnamed: 3    5560\n",
       "Unnamed: 4    5566\n",
       "dtype: int64"
      ]
     },
     "execution_count": 6,
     "metadata": {},
     "output_type": "execute_result"
    }
   ],
   "source": [
    "data.isnull().sum()"
   ]
  },
  {
   "cell_type": "code",
   "execution_count": 7,
   "id": "b92d7d99",
   "metadata": {
    "execution": {
     "iopub.execute_input": "2023-08-02T10:37:06.883076Z",
     "iopub.status.busy": "2023-08-02T10:37:06.882646Z",
     "iopub.status.idle": "2023-08-02T10:37:06.894750Z",
     "shell.execute_reply": "2023-08-02T10:37:06.893728Z"
    },
    "papermill": {
     "duration": 0.023692,
     "end_time": "2023-08-02T10:37:06.897001",
     "exception": false,
     "start_time": "2023-08-02T10:37:06.873309",
     "status": "completed"
    },
    "tags": []
   },
   "outputs": [
    {
     "data": {
      "text/html": [
       "<div>\n",
       "<style scoped>\n",
       "    .dataframe tbody tr th:only-of-type {\n",
       "        vertical-align: middle;\n",
       "    }\n",
       "\n",
       "    .dataframe tbody tr th {\n",
       "        vertical-align: top;\n",
       "    }\n",
       "\n",
       "    .dataframe thead th {\n",
       "        text-align: right;\n",
       "    }\n",
       "</style>\n",
       "<table border=\"1\" class=\"dataframe\">\n",
       "  <thead>\n",
       "    <tr style=\"text-align: right;\">\n",
       "      <th></th>\n",
       "      <th>type</th>\n",
       "      <th>message</th>\n",
       "    </tr>\n",
       "  </thead>\n",
       "  <tbody>\n",
       "    <tr>\n",
       "      <th>0</th>\n",
       "      <td>ham</td>\n",
       "      <td>Go until jurong point, crazy.. Available only ...</td>\n",
       "    </tr>\n",
       "    <tr>\n",
       "      <th>1</th>\n",
       "      <td>ham</td>\n",
       "      <td>Ok lar... Joking wif u oni...</td>\n",
       "    </tr>\n",
       "    <tr>\n",
       "      <th>2</th>\n",
       "      <td>spam</td>\n",
       "      <td>Free entry in 2 a wkly comp to win FA Cup fina...</td>\n",
       "    </tr>\n",
       "    <tr>\n",
       "      <th>3</th>\n",
       "      <td>ham</td>\n",
       "      <td>U dun say so early hor... U c already then say...</td>\n",
       "    </tr>\n",
       "    <tr>\n",
       "      <th>4</th>\n",
       "      <td>ham</td>\n",
       "      <td>Nah I don't think he goes to usf, he lives aro...</td>\n",
       "    </tr>\n",
       "  </tbody>\n",
       "</table>\n",
       "</div>"
      ],
      "text/plain": [
       "   type                                            message\n",
       "0   ham  Go until jurong point, crazy.. Available only ...\n",
       "1   ham                      Ok lar... Joking wif u oni...\n",
       "2  spam  Free entry in 2 a wkly comp to win FA Cup fina...\n",
       "3   ham  U dun say so early hor... U c already then say...\n",
       "4   ham  Nah I don't think he goes to usf, he lives aro..."
      ]
     },
     "execution_count": 7,
     "metadata": {},
     "output_type": "execute_result"
    }
   ],
   "source": [
    "data = data[['v1', 'v2']]\n",
    "data.columns = ['type', 'message']\n",
    "data.head()"
   ]
  },
  {
   "cell_type": "code",
   "execution_count": 8,
   "id": "f41aa1d7",
   "metadata": {
    "execution": {
     "iopub.execute_input": "2023-08-02T10:37:06.915217Z",
     "iopub.status.busy": "2023-08-02T10:37:06.914482Z",
     "iopub.status.idle": "2023-08-02T10:37:06.923002Z",
     "shell.execute_reply": "2023-08-02T10:37:06.922041Z"
    },
    "papermill": {
     "duration": 0.020052,
     "end_time": "2023-08-02T10:37:06.925051",
     "exception": false,
     "start_time": "2023-08-02T10:37:06.904999",
     "status": "completed"
    },
    "tags": []
   },
   "outputs": [
    {
     "data": {
      "text/plain": [
       "type\n",
       "ham     4825\n",
       "spam     747\n",
       "dtype: int64"
      ]
     },
     "execution_count": 8,
     "metadata": {},
     "output_type": "execute_result"
    }
   ],
   "source": [
    "data.groupby('type').size()"
   ]
  },
  {
   "cell_type": "markdown",
   "id": "752ea19e",
   "metadata": {
    "papermill": {
     "duration": 0.007655,
     "end_time": "2023-08-02T10:37:06.940825",
     "exception": false,
     "start_time": "2023-08-02T10:37:06.933170",
     "status": "completed"
    },
    "tags": []
   },
   "source": [
    "# Data Vizualisation"
   ]
  },
  {
   "cell_type": "code",
   "execution_count": 9,
   "id": "358202a4",
   "metadata": {
    "execution": {
     "iopub.execute_input": "2023-08-02T10:37:06.958649Z",
     "iopub.status.busy": "2023-08-02T10:37:06.958245Z",
     "iopub.status.idle": "2023-08-02T10:37:07.206137Z",
     "shell.execute_reply": "2023-08-02T10:37:07.205309Z"
    },
    "papermill": {
     "duration": 0.259505,
     "end_time": "2023-08-02T10:37:07.208283",
     "exception": false,
     "start_time": "2023-08-02T10:37:06.948778",
     "status": "completed"
    },
    "tags": []
   },
   "outputs": [
    {
     "data": {
      "text/plain": [
       "<Axes: >"
      ]
     },
     "execution_count": 9,
     "metadata": {},
     "output_type": "execute_result"
    },
    {
     "data": {
      "image/png": "[encoded data removed]",
      "text/plain": [
       "<Figure size 640x480 with 1 Axes>"
      ]
     },
     "metadata": {},
     "output_type": "display_data"
    }
   ],
   "source": [
    "data['type'].value_counts().plot(kind='barh', color= 'purple')"
   ]
  },
  {
   "cell_type": "markdown",
   "id": "3f2cd0c2",
   "metadata": {
    "papermill": {
     "duration": 0.008488,
     "end_time": "2023-08-02T10:37:07.225181",
     "exception": false,
     "start_time": "2023-08-02T10:37:07.216693",
     "status": "completed"
    },
    "tags": []
   },
   "source": [
    "## Natural Language Processing\n",
    "\n",
    "## Text Preprocessing and Stemming"
   ]
  },
  {
   "cell_type": "code",
   "execution_count": 10,
   "id": "fda3396f",
   "metadata": {
    "execution": {
     "iopub.execute_input": "2023-08-02T10:37:07.244334Z",
     "iopub.status.busy": "2023-08-02T10:37:07.243590Z",
     "iopub.status.idle": "2023-08-02T10:37:09.163173Z",
     "shell.execute_reply": "2023-08-02T10:37:09.161928Z"
    },
    "papermill": {
     "duration": 1.931676,
     "end_time": "2023-08-02T10:37:09.165404",
     "exception": false,
     "start_time": "2023-08-02T10:37:07.233728",
     "status": "completed"
    },
    "tags": []
   },
   "outputs": [
    {
     "name": "stdout",
     "output_type": "stream",
     "text": [
      "[nltk_data] Downloading package stopwords to /usr/share/nltk_data...\n",
      "[nltk_data]   Package stopwords is already up-to-date!\n"
     ]
    }
   ],
   "source": [
    "#Importing the libraries\n",
    "import re\n",
    "import nltk\n",
    "#Download the Stopwords from nltk\n",
    "nltk.download('stopwords')\n",
    "from nltk.corpus import stopwords\n",
    "#Using PorterStemmer for Stemming the Words\n",
    "from nltk.stem.porter import PorterStemmer"
   ]
  },
  {
   "cell_type": "code",
   "execution_count": 11,
   "id": "7c942546",
   "metadata": {
    "execution": {
     "iopub.execute_input": "2023-08-02T10:37:09.185086Z",
     "iopub.status.busy": "2023-08-02T10:37:09.183850Z",
     "iopub.status.idle": "2023-08-02T10:37:21.046897Z",
     "shell.execute_reply": "2023-08-02T10:37:21.045945Z"
    },
    "papermill": {
     "duration": 11.875489,
     "end_time": "2023-08-02T10:37:21.049439",
     "exception": false,
     "start_time": "2023-08-02T10:37:09.173950",
     "status": "completed"
    },
    "tags": []
   },
   "outputs": [
    {
     "data": {
      "text/plain": [
       "['ok lar joke wif u oni',\n",
       " 'free entri wkli comp win fa cup final tkt st may text fa receiv entri question std txt rate c appli',\n",
       " 'u dun say earli hor u c alreadi say',\n",
       " 'nah think goe usf live around though',\n",
       " 'freemsg hey darl week word back like fun still tb ok xxx std chg send rcv',\n",
       " 'even brother like speak treat like aid patent']"
      ]
     },
     "execution_count": 11,
     "metadata": {},
     "output_type": "execute_result"
    }
   ],
   "source": [
    "stem1 = PorterStemmer()\n",
    "corpus = []\n",
    "for i in range(0, len(data)):\n",
    "    show = re.sub('[^a-zA-Z]', ' ', data['message'][i])\n",
    "    show = show.lower()\n",
    "    show = show.split()\n",
    "    show = [stem1.stem(word) for word in show if not word in stopwords.words('english')]\n",
    "    show = ' '.join(show)\n",
    "    corpus.append(show)\n",
    "\n",
    "#Printing the first 6 values in the corpus list\n",
    "corpus[1:7]"
   ]
  },
  {
   "cell_type": "code",
   "execution_count": 12,
   "id": "2b99d74b",
   "metadata": {
    "execution": {
     "iopub.execute_input": "2023-08-02T10:37:21.069675Z",
     "iopub.status.busy": "2023-08-02T10:37:21.069295Z",
     "iopub.status.idle": "2023-08-02T10:37:21.073926Z",
     "shell.execute_reply": "2023-08-02T10:37:21.072768Z"
    },
    "papermill": {
     "duration": 0.017464,
     "end_time": "2023-08-02T10:37:21.076124",
     "exception": false,
     "start_time": "2023-08-02T10:37:21.058660",
     "status": "completed"
    },
    "tags": []
   },
   "outputs": [],
   "source": [
    "from sklearn.feature_extraction.text import CountVectorizer"
   ]
  },
  {
   "cell_type": "code",
   "execution_count": 13,
   "id": "86dfcca6",
   "metadata": {
    "execution": {
     "iopub.execute_input": "2023-08-02T10:37:21.095896Z",
     "iopub.status.busy": "2023-08-02T10:37:21.095445Z",
     "iopub.status.idle": "2023-08-02T10:37:21.649833Z",
     "shell.execute_reply": "2023-08-02T10:37:21.648850Z"
    },
    "papermill": {
     "duration": 0.567015,
     "end_time": "2023-08-02T10:37:21.652210",
     "exception": false,
     "start_time": "2023-08-02T10:37:21.085195",
     "status": "completed"
    },
    "tags": []
   },
   "outputs": [],
   "source": [
    "count1 = CountVectorizer(max_features = 4000)\n",
    "X = count1.fit_transform(corpus).toarray()\n",
    "Y = pd.get_dummies(data['type'])\n",
    "Y = Y.iloc[:, 1].values\n",
    "from sklearn.model_selection import train_test_split\n",
    "from sklearn.tree import DecisionTreeClassifier\n",
    "from sklearn.ensemble import RandomForestClassifier\n",
    "from sklearn.naive_bayes import MultinomialNB\n",
    "from sklearn.svm import SVC\n",
    "\n",
    "from sklearn.metrics import confusion_matrix\n",
    "from sklearn.metrics import accuracy_score\n",
    "x_train, x_test, y_train, y_test = train_test_split(X, Y, test_size = 0.20, random_state=42)\n",
    "\n"
   ]
  },
  {
   "cell_type": "markdown",
   "id": "eb7b9723",
   "metadata": {
    "papermill": {
     "duration": 0.008267,
     "end_time": "2023-08-02T10:37:21.669691",
     "exception": false,
     "start_time": "2023-08-02T10:37:21.661424",
     "status": "completed"
    },
    "tags": []
   },
   "source": [
    "### DecisionTreeClassifier()"
   ]
  },
  {
   "cell_type": "code",
   "execution_count": 14,
   "id": "9c74e539",
   "metadata": {
    "execution": {
     "iopub.execute_input": "2023-08-02T10:37:21.688533Z",
     "iopub.status.busy": "2023-08-02T10:37:21.688101Z",
     "iopub.status.idle": "2023-08-02T10:37:27.894558Z",
     "shell.execute_reply": "2023-08-02T10:37:27.893439Z"
    },
    "papermill": {
     "duration": 6.218551,
     "end_time": "2023-08-02T10:37:27.896710",
     "exception": false,
     "start_time": "2023-08-02T10:37:21.678159",
     "status": "completed"
    },
    "tags": []
   },
   "outputs": [
    {
     "data": {
      "text/html": [
       "<style>#sk-container-id-1 {color: black;background-color: white;}#sk-container-id-1 pre{padding: 0;}#sk-container-id-1 div.sk-toggleable {background-color: white;}#sk-container-id-1 label.sk-toggleable__label {cursor: pointer;display: block;width: 100%;margin-bottom: 0;padding: 0.3em;box-sizing: border-box;text-align: center;}#sk-container-id-1 label.sk-toggleable__label-arrow:before {content: \"▸\";float: left;margin-right: 0.25em;color: #696969;}#sk-container-id-1 label.sk-toggleable__label-arrow:hover:before {color: black;}#sk-container-id-1 div.sk-estimator:hover label.sk-toggleable__label-arrow:before {color: black;}#sk-container-id-1 div.sk-toggleable__content {max-height: 0;max-width: 0;overflow: hidden;text-align: left;background-color: #f0f8ff;}#sk-container-id-1 div.sk-toggleable__content pre {margin: 0.2em;color: black;border-radius: 0.25em;background-color: #f0f8ff;}#sk-container-id-1 input.sk-toggleable__control:checked~div.sk-toggleable__content {max-height: 200px;max-width: 100%;overflow: auto;}#sk-container-id-1 input.sk-toggleable__control:checked~label.sk-toggleable__label-arrow:before {content: \"▾\";}#sk-container-id-1 div.sk-estimator input.sk-toggleable__control:checked~label.sk-toggleable__label {background-color: #d4ebff;}#sk-container-id-1 div.sk-label input.sk-toggleable__control:checked~label.sk-toggleable__label {background-color: #d4ebff;}#sk-container-id-1 input.sk-hidden--visually {border: 0;clip: rect(1px 1px 1px 1px);clip: rect(1px, 1px, 1px, 1px);height: 1px;margin: -1px;overflow: hidden;padding: 0;position: absolute;width: 1px;}#sk-container-id-1 div.sk-estimator {font-family: monospace;background-color: #f0f8ff;border: 1px dotted black;border-radius: 0.25em;box-sizing: border-box;margin-bottom: 0.5em;}#sk-container-id-1 div.sk-estimator:hover {background-color: #d4ebff;}#sk-container-id-1 div.sk-parallel-item::after {content: \"\";width: 100%;border-bottom: 1px solid gray;flex-grow: 1;}#sk-container-id-1 div.sk-label:hover label.sk-toggleable__label {background-color: #d4ebff;}#sk-container-id-1 div.sk-serial::before {content: \"\";position: absolute;border-left: 1px solid gray;box-sizing: border-box;top: 0;bottom: 0;left: 50%;z-index: 0;}#sk-container-id-1 div.sk-serial {display: flex;flex-direction: column;align-items: center;background-color: white;padding-right: 0.2em;padding-left: 0.2em;position: relative;}#sk-container-id-1 div.sk-item {position: relative;z-index: 1;}#sk-container-id-1 div.sk-parallel {display: flex;align-items: stretch;justify-content: center;background-color: white;position: relative;}#sk-container-id-1 div.sk-item::before, #sk-container-id-1 div.sk-parallel-item::before {content: \"\";position: absolute;border-left: 1px solid gray;box-sizing: border-box;top: 0;bottom: 0;left: 50%;z-index: -1;}#sk-container-id-1 div.sk-parallel-item {display: flex;flex-direction: column;z-index: 1;position: relative;background-color: white;}#sk-container-id-1 div.sk-parallel-item:first-child::after {align-self: flex-end;width: 50%;}#sk-container-id-1 div.sk-parallel-item:last-child::after {align-self: flex-start;width: 50%;}#sk-container-id-1 div.sk-parallel-item:only-child::after {width: 0;}#sk-container-id-1 div.sk-dashed-wrapped {border: 1px dashed gray;margin: 0 0.4em 0.5em 0.4em;box-sizing: border-box;padding-bottom: 0.4em;background-color: white;}#sk-container-id-1 div.sk-label label {font-family: monospace;font-weight: bold;display: inline-block;line-height: 1.2em;}#sk-container-id-1 div.sk-label-container {text-align: center;}#sk-container-id-1 div.sk-container {/* jupyter's `normalize.less` sets `[hidden] { display: none; }` but bootstrap.min.css set `[hidden] { display: none !important; }` so we also need the `!important` here to be able to override the default hidden behavior on the sphinx rendered scikit-learn.org. See: https://github.com/scikit-learn/scikit-learn/issues/21755 */display: inline-block !important;position: relative;}#sk-container-id-1 div.sk-text-repr-fallback {display: none;}</style><div id=\"sk-container-id-1\" class=\"sk-top-container\"><div class=\"sk-text-repr-fallback\"><pre>DecisionTreeClassifier()</pre><b>In a Jupyter environment, please rerun this cell to show the HTML representation or trust the notebook. <br />On GitHub, the HTML representation is unable to render, please try loading this page with nbviewer.org.</b></div><div class=\"sk-container\" hidden><div class=\"sk-item\"><div class=\"sk-estimator sk-toggleable\"><input class=\"sk-toggleable__control sk-hidden--visually\" id=\"sk-estimator-id-1\" type=\"checkbox\" checked><label for=\"sk-estimator-id-1\" class=\"sk-toggleable__label sk-toggleable__label-arrow\">DecisionTreeClassifier</label><div class=\"sk-toggleable__content\"><pre>DecisionTreeClassifier()</pre></div></div></div></div></div>"
      ],
      "text/plain": [
       "DecisionTreeClassifier()"
      ]
     },
     "execution_count": 14,
     "metadata": {},
     "output_type": "execute_result"
    }
   ],
   "source": [
    "# Model 1 - DecisionTreeClassifier\n",
    "dtcmodel= DecisionTreeClassifier()\n",
    "dtcmodel.fit(x_train, y_train)"
   ]
  },
  {
   "cell_type": "code",
   "execution_count": 15,
   "id": "93b87038",
   "metadata": {
    "execution": {
     "iopub.execute_input": "2023-08-02T10:37:27.916080Z",
     "iopub.status.busy": "2023-08-02T10:37:27.915667Z",
     "iopub.status.idle": "2023-08-02T10:37:41.032439Z",
     "shell.execute_reply": "2023-08-02T10:37:41.031310Z"
    },
    "papermill": {
     "duration": 13.129579,
     "end_time": "2023-08-02T10:37:41.035147",
     "exception": false,
     "start_time": "2023-08-02T10:37:27.905568",
     "status": "completed"
    },
    "tags": []
   },
   "outputs": [
    {
     "data": {
      "text/html": [
       "<style>#sk-container-id-2 {color: black;background-color: white;}#sk-container-id-2 pre{padding: 0;}#sk-container-id-2 div.sk-toggleable {background-color: white;}#sk-container-id-2 label.sk-toggleable__label {cursor: pointer;display: block;width: 100%;margin-bottom: 0;padding: 0.3em;box-sizing: border-box;text-align: center;}#sk-container-id-2 label.sk-toggleable__label-arrow:before {content: \"▸\";float: left;margin-right: 0.25em;color: #696969;}#sk-container-id-2 label.sk-toggleable__label-arrow:hover:before {color: black;}#sk-container-id-2 div.sk-estimator:hover label.sk-toggleable__label-arrow:before {color: black;}#sk-container-id-2 div.sk-toggleable__content {max-height: 0;max-width: 0;overflow: hidden;text-align: left;background-color: #f0f8ff;}#sk-container-id-2 div.sk-toggleable__content pre {margin: 0.2em;color: black;border-radius: 0.25em;background-color: #f0f8ff;}#sk-container-id-2 input.sk-toggleable__control:checked~div.sk-toggleable__content {max-height: 200px;max-width: 100%;overflow: auto;}#sk-container-id-2 input.sk-toggleable__control:checked~label.sk-toggleable__label-arrow:before {content: \"▾\";}#sk-container-id-2 div.sk-estimator input.sk-toggleable__control:checked~label.sk-toggleable__label {background-color: #d4ebff;}#sk-container-id-2 div.sk-label input.sk-toggleable__control:checked~label.sk-toggleable__label {background-color: #d4ebff;}#sk-container-id-2 input.sk-hidden--visually {border: 0;clip: rect(1px 1px 1px 1px);clip: rect(1px, 1px, 1px, 1px);height: 1px;margin: -1px;overflow: hidden;padding: 0;position: absolute;width: 1px;}#sk-container-id-2 div.sk-estimator {font-family: monospace;background-color: #f0f8ff;border: 1px dotted black;border-radius: 0.25em;box-sizing: border-box;margin-bottom: 0.5em;}#sk-container-id-2 div.sk-estimator:hover {background-color: #d4ebff;}#sk-container-id-2 div.sk-parallel-item::after {content: \"\";width: 100%;border-bottom: 1px solid gray;flex-grow: 1;}#sk-container-id-2 div.sk-label:hover label.sk-toggleable__label {background-color: #d4ebff;}#sk-container-id-2 div.sk-serial::before {content: \"\";position: absolute;border-left: 1px solid gray;box-sizing: border-box;top: 0;bottom: 0;left: 50%;z-index: 0;}#sk-container-id-2 div.sk-serial {display: flex;flex-direction: column;align-items: center;background-color: white;padding-right: 0.2em;padding-left: 0.2em;position: relative;}#sk-container-id-2 div.sk-item {position: relative;z-index: 1;}#sk-container-id-2 div.sk-parallel {display: flex;align-items: stretch;justify-content: center;background-color: white;position: relative;}#sk-container-id-2 div.sk-item::before, #sk-container-id-2 div.sk-parallel-item::before {content: \"\";position: absolute;border-left: 1px solid gray;box-sizing: border-box;top: 0;bottom: 0;left: 50%;z-index: -1;}#sk-container-id-2 div.sk-parallel-item {display: flex;flex-direction: column;z-index: 1;position: relative;background-color: white;}#sk-container-id-2 div.sk-parallel-item:first-child::after {align-self: flex-end;width: 50%;}#sk-container-id-2 div.sk-parallel-item:last-child::after {align-self: flex-start;width: 50%;}#sk-container-id-2 div.sk-parallel-item:only-child::after {width: 0;}#sk-container-id-2 div.sk-dashed-wrapped {border: 1px dashed gray;margin: 0 0.4em 0.5em 0.4em;box-sizing: border-box;padding-bottom: 0.4em;background-color: white;}#sk-container-id-2 div.sk-label label {font-family: monospace;font-weight: bold;display: inline-block;line-height: 1.2em;}#sk-container-id-2 div.sk-label-container {text-align: center;}#sk-container-id-2 div.sk-container {/* jupyter's `normalize.less` sets `[hidden] { display: none; }` but bootstrap.min.css set `[hidden] { display: none !important; }` so we also need the `!important` here to be able to override the default hidden behavior on the sphinx rendered scikit-learn.org. See: https://github.com/scikit-learn/scikit-learn/issues/21755 */display: inline-block !important;position: relative;}#sk-container-id-2 div.sk-text-repr-fallback {display: none;}</style><div id=\"sk-container-id-2\" class=\"sk-top-container\"><div class=\"sk-text-repr-fallback\"><pre>RandomForestClassifier()</pre><b>In a Jupyter environment, please rerun this cell to show the HTML representation or trust the notebook. <br />On GitHub, the HTML representation is unable to render, please try loading this page with nbviewer.org.</b></div><div class=\"sk-container\" hidden><div class=\"sk-item\"><div class=\"sk-estimator sk-toggleable\"><input class=\"sk-toggleable__control sk-hidden--visually\" id=\"sk-estimator-id-2\" type=\"checkbox\" checked><label for=\"sk-estimator-id-2\" class=\"sk-toggleable__label sk-toggleable__label-arrow\">RandomForestClassifier</label><div class=\"sk-toggleable__content\"><pre>RandomForestClassifier()</pre></div></div></div></div></div>"
      ],
      "text/plain": [
       "RandomForestClassifier()"
      ]
     },
     "execution_count": 15,
     "metadata": {},
     "output_type": "execute_result"
    }
   ],
   "source": [
    "# Model 2 - RandomForestClassifier\n",
    "rfcmodel= RandomForestClassifier()\n",
    "rfcmodel.fit(x_train, y_train)\n",
    "RandomForestClassifier()"
   ]
  },
  {
   "cell_type": "code",
   "execution_count": 16,
   "id": "20857786",
   "metadata": {
    "execution": {
     "iopub.execute_input": "2023-08-02T10:37:41.055142Z",
     "iopub.status.busy": "2023-08-02T10:37:41.054744Z",
     "iopub.status.idle": "2023-08-02T10:37:41.234540Z",
     "shell.execute_reply": "2023-08-02T10:37:41.233102Z"
    },
    "papermill": {
     "duration": 0.192427,
     "end_time": "2023-08-02T10:37:41.236763",
     "exception": false,
     "start_time": "2023-08-02T10:37:41.044336",
     "status": "completed"
    },
    "tags": []
   },
   "outputs": [
    {
     "data": {
      "text/html": [
       "<style>#sk-container-id-3 {color: black;background-color: white;}#sk-container-id-3 pre{padding: 0;}#sk-container-id-3 div.sk-toggleable {background-color: white;}#sk-container-id-3 label.sk-toggleable__label {cursor: pointer;display: block;width: 100%;margin-bottom: 0;padding: 0.3em;box-sizing: border-box;text-align: center;}#sk-container-id-3 label.sk-toggleable__label-arrow:before {content: \"▸\";float: left;margin-right: 0.25em;color: #696969;}#sk-container-id-3 label.sk-toggleable__label-arrow:hover:before {color: black;}#sk-container-id-3 div.sk-estimator:hover label.sk-toggleable__label-arrow:before {color: black;}#sk-container-id-3 div.sk-toggleable__content {max-height: 0;max-width: 0;overflow: hidden;text-align: left;background-color: #f0f8ff;}#sk-container-id-3 div.sk-toggleable__content pre {margin: 0.2em;color: black;border-radius: 0.25em;background-color: #f0f8ff;}#sk-container-id-3 input.sk-toggleable__control:checked~div.sk-toggleable__content {max-height: 200px;max-width: 100%;overflow: auto;}#sk-container-id-3 input.sk-toggleable__control:checked~label.sk-toggleable__label-arrow:before {content: \"▾\";}#sk-container-id-3 div.sk-estimator input.sk-toggleable__control:checked~label.sk-toggleable__label {background-color: #d4ebff;}#sk-container-id-3 div.sk-label input.sk-toggleable__control:checked~label.sk-toggleable__label {background-color: #d4ebff;}#sk-container-id-3 input.sk-hidden--visually {border: 0;clip: rect(1px 1px 1px 1px);clip: rect(1px, 1px, 1px, 1px);height: 1px;margin: -1px;overflow: hidden;padding: 0;position: absolute;width: 1px;}#sk-container-id-3 div.sk-estimator {font-family: monospace;background-color: #f0f8ff;border: 1px dotted black;border-radius: 0.25em;box-sizing: border-box;margin-bottom: 0.5em;}#sk-container-id-3 div.sk-estimator:hover {background-color: #d4ebff;}#sk-container-id-3 div.sk-parallel-item::after {content: \"\";width: 100%;border-bottom: 1px solid gray;flex-grow: 1;}#sk-container-id-3 div.sk-label:hover label.sk-toggleable__label {background-color: #d4ebff;}#sk-container-id-3 div.sk-serial::before {content: \"\";position: absolute;border-left: 1px solid gray;box-sizing: border-box;top: 0;bottom: 0;left: 50%;z-index: 0;}#sk-container-id-3 div.sk-serial {display: flex;flex-direction: column;align-items: center;background-color: white;padding-right: 0.2em;padding-left: 0.2em;position: relative;}#sk-container-id-3 div.sk-item {position: relative;z-index: 1;}#sk-container-id-3 div.sk-parallel {display: flex;align-items: stretch;justify-content: center;background-color: white;position: relative;}#sk-container-id-3 div.sk-item::before, #sk-container-id-3 div.sk-parallel-item::before {content: \"\";position: absolute;border-left: 1px solid gray;box-sizing: border-box;top: 0;bottom: 0;left: 50%;z-index: -1;}#sk-container-id-3 div.sk-parallel-item {display: flex;flex-direction: column;z-index: 1;position: relative;background-color: white;}#sk-container-id-3 div.sk-parallel-item:first-child::after {align-self: flex-end;width: 50%;}#sk-container-id-3 div.sk-parallel-item:last-child::after {align-self: flex-start;width: 50%;}#sk-container-id-3 div.sk-parallel-item:only-child::after {width: 0;}#sk-container-id-3 div.sk-dashed-wrapped {border: 1px dashed gray;margin: 0 0.4em 0.5em 0.4em;box-sizing: border-box;padding-bottom: 0.4em;background-color: white;}#sk-container-id-3 div.sk-label label {font-family: monospace;font-weight: bold;display: inline-block;line-height: 1.2em;}#sk-container-id-3 div.sk-label-container {text-align: center;}#sk-container-id-3 div.sk-container {/* jupyter's `normalize.less` sets `[hidden] { display: none; }` but bootstrap.min.css set `[hidden] { display: none !important; }` so we also need the `!important` here to be able to override the default hidden behavior on the sphinx rendered scikit-learn.org. See: https://github.com/scikit-learn/scikit-learn/issues/21755 */display: inline-block !important;position: relative;}#sk-container-id-3 div.sk-text-repr-fallback {display: none;}</style><div id=\"sk-container-id-3\" class=\"sk-top-container\"><div class=\"sk-text-repr-fallback\"><pre>MultinomialNB()</pre><b>In a Jupyter environment, please rerun this cell to show the HTML representation or trust the notebook. <br />On GitHub, the HTML representation is unable to render, please try loading this page with nbviewer.org.</b></div><div class=\"sk-container\" hidden><div class=\"sk-item\"><div class=\"sk-estimator sk-toggleable\"><input class=\"sk-toggleable__control sk-hidden--visually\" id=\"sk-estimator-id-3\" type=\"checkbox\" checked><label for=\"sk-estimator-id-3\" class=\"sk-toggleable__label sk-toggleable__label-arrow\">MultinomialNB</label><div class=\"sk-toggleable__content\"><pre>MultinomialNB()</pre></div></div></div></div></div>"
      ],
      "text/plain": [
       "MultinomialNB()"
      ]
     },
     "execution_count": 16,
     "metadata": {},
     "output_type": "execute_result"
    }
   ],
   "source": [
    "# Model 3 - Multinomial Naïve Bayes\n",
    "mnbmodel= MultinomialNB()\n",
    "mnbmodel.fit(x_train, y_train)\n",
    "MultinomialNB()"
   ]
  },
  {
   "cell_type": "code",
   "execution_count": 17,
   "id": "e5b68ff3",
   "metadata": {
    "execution": {
     "iopub.execute_input": "2023-08-02T10:37:41.256579Z",
     "iopub.status.busy": "2023-08-02T10:37:41.256203Z",
     "iopub.status.idle": "2023-08-02T10:37:59.406358Z",
     "shell.execute_reply": "2023-08-02T10:37:59.405270Z"
    },
    "papermill": {
     "duration": 18.163391,
     "end_time": "2023-08-02T10:37:59.409374",
     "exception": false,
     "start_time": "2023-08-02T10:37:41.245983",
     "status": "completed"
    },
    "tags": []
   },
   "outputs": [
    {
     "data": {
      "text/html": [
       "<style>#sk-container-id-4 {color: black;background-color: white;}#sk-container-id-4 pre{padding: 0;}#sk-container-id-4 div.sk-toggleable {background-color: white;}#sk-container-id-4 label.sk-toggleable__label {cursor: pointer;display: block;width: 100%;margin-bottom: 0;padding: 0.3em;box-sizing: border-box;text-align: center;}#sk-container-id-4 label.sk-toggleable__label-arrow:before {content: \"▸\";float: left;margin-right: 0.25em;color: #696969;}#sk-container-id-4 label.sk-toggleable__label-arrow:hover:before {color: black;}#sk-container-id-4 div.sk-estimator:hover label.sk-toggleable__label-arrow:before {color: black;}#sk-container-id-4 div.sk-toggleable__content {max-height: 0;max-width: 0;overflow: hidden;text-align: left;background-color: #f0f8ff;}#sk-container-id-4 div.sk-toggleable__content pre {margin: 0.2em;color: black;border-radius: 0.25em;background-color: #f0f8ff;}#sk-container-id-4 input.sk-toggleable__control:checked~div.sk-toggleable__content {max-height: 200px;max-width: 100%;overflow: auto;}#sk-container-id-4 input.sk-toggleable__control:checked~label.sk-toggleable__label-arrow:before {content: \"▾\";}#sk-container-id-4 div.sk-estimator input.sk-toggleable__control:checked~label.sk-toggleable__label {background-color: #d4ebff;}#sk-container-id-4 div.sk-label input.sk-toggleable__control:checked~label.sk-toggleable__label {background-color: #d4ebff;}#sk-container-id-4 input.sk-hidden--visually {border: 0;clip: rect(1px 1px 1px 1px);clip: rect(1px, 1px, 1px, 1px);height: 1px;margin: -1px;overflow: hidden;padding: 0;position: absolute;width: 1px;}#sk-container-id-4 div.sk-estimator {font-family: monospace;background-color: #f0f8ff;border: 1px dotted black;border-radius: 0.25em;box-sizing: border-box;margin-bottom: 0.5em;}#sk-container-id-4 div.sk-estimator:hover {background-color: #d4ebff;}#sk-container-id-4 div.sk-parallel-item::after {content: \"\";width: 100%;border-bottom: 1px solid gray;flex-grow: 1;}#sk-container-id-4 div.sk-label:hover label.sk-toggleable__label {background-color: #d4ebff;}#sk-container-id-4 div.sk-serial::before {content: \"\";position: absolute;border-left: 1px solid gray;box-sizing: border-box;top: 0;bottom: 0;left: 50%;z-index: 0;}#sk-container-id-4 div.sk-serial {display: flex;flex-direction: column;align-items: center;background-color: white;padding-right: 0.2em;padding-left: 0.2em;position: relative;}#sk-container-id-4 div.sk-item {position: relative;z-index: 1;}#sk-container-id-4 div.sk-parallel {display: flex;align-items: stretch;justify-content: center;background-color: white;position: relative;}#sk-container-id-4 div.sk-item::before, #sk-container-id-4 div.sk-parallel-item::before {content: \"\";position: absolute;border-left: 1px solid gray;box-sizing: border-box;top: 0;bottom: 0;left: 50%;z-index: -1;}#sk-container-id-4 div.sk-parallel-item {display: flex;flex-direction: column;z-index: 1;position: relative;background-color: white;}#sk-container-id-4 div.sk-parallel-item:first-child::after {align-self: flex-end;width: 50%;}#sk-container-id-4 div.sk-parallel-item:last-child::after {align-self: flex-start;width: 50%;}#sk-container-id-4 div.sk-parallel-item:only-child::after {width: 0;}#sk-container-id-4 div.sk-dashed-wrapped {border: 1px dashed gray;margin: 0 0.4em 0.5em 0.4em;box-sizing: border-box;padding-bottom: 0.4em;background-color: white;}#sk-container-id-4 div.sk-label label {font-family: monospace;font-weight: bold;display: inline-block;line-height: 1.2em;}#sk-container-id-4 div.sk-label-container {text-align: center;}#sk-container-id-4 div.sk-container {/* jupyter's `normalize.less` sets `[hidden] { display: none; }` but bootstrap.min.css set `[hidden] { display: none !important; }` so we also need the `!important` here to be able to override the default hidden behavior on the sphinx rendered scikit-learn.org. See: https://github.com/scikit-learn/scikit-learn/issues/21755 */display: inline-block !important;position: relative;}#sk-container-id-4 div.sk-text-repr-fallback {display: none;}</style><div id=\"sk-container-id-4\" class=\"sk-top-container\"><div class=\"sk-text-repr-fallback\"><pre>SVC()</pre><b>In a Jupyter environment, please rerun this cell to show the HTML representation or trust the notebook. <br />On GitHub, the HTML representation is unable to render, please try loading this page with nbviewer.org.</b></div><div class=\"sk-container\" hidden><div class=\"sk-item\"><div class=\"sk-estimator sk-toggleable\"><input class=\"sk-toggleable__control sk-hidden--visually\" id=\"sk-estimator-id-4\" type=\"checkbox\" checked><label for=\"sk-estimator-id-4\" class=\"sk-toggleable__label sk-toggleable__label-arrow\">SVC</label><div class=\"sk-toggleable__content\"><pre>SVC()</pre></div></div></div></div></div>"
      ],
      "text/plain": [
       "SVC()"
      ]
     },
     "execution_count": 17,
     "metadata": {},
     "output_type": "execute_result"
    }
   ],
   "source": [
    "# Model 4 - SVC\n",
    "svcmodel= SVC()\n",
    "svcmodel.fit(x_train, y_train)"
   ]
  },
  {
   "cell_type": "code",
   "execution_count": 18,
   "id": "886dffa1",
   "metadata": {
    "execution": {
     "iopub.execute_input": "2023-08-02T10:37:59.430333Z",
     "iopub.status.busy": "2023-08-02T10:37:59.429916Z",
     "iopub.status.idle": "2023-08-02T10:38:06.126027Z",
     "shell.execute_reply": "2023-08-02T10:38:06.124996Z"
    },
    "papermill": {
     "duration": 6.709357,
     "end_time": "2023-08-02T10:38:06.128569",
     "exception": false,
     "start_time": "2023-08-02T10:37:59.419212",
     "status": "completed"
    },
    "tags": []
   },
   "outputs": [],
   "source": [
    "pre1 = dtcmodel.predict(x_test)\n",
    "pre2 = rfcmodel.predict(x_test)\n",
    "pre3 = mnbmodel.predict(x_test)\n",
    "pre4 = svcmodel.predict(x_test)"
   ]
  },
  {
   "cell_type": "code",
   "execution_count": 19,
   "id": "d369699b",
   "metadata": {
    "execution": {
     "iopub.execute_input": "2023-08-02T10:38:06.149860Z",
     "iopub.status.busy": "2023-08-02T10:38:06.149500Z",
     "iopub.status.idle": "2023-08-02T10:38:06.159398Z",
     "shell.execute_reply": "2023-08-02T10:38:06.158391Z"
    },
    "papermill": {
     "duration": 0.023133,
     "end_time": "2023-08-02T10:38:06.161838",
     "exception": false,
     "start_time": "2023-08-02T10:38:06.138705",
     "status": "completed"
    },
    "tags": []
   },
   "outputs": [
    {
     "name": "stdout",
     "output_type": "stream",
     "text": [
      "Decision Tree Classifier\n",
      "Confusion Matrix: \n",
      "[[958   7]\n",
      " [ 22 128]]\n",
      "Accuracy:  97.39910313901345\n",
      "-------------**---------------\n"
     ]
    }
   ],
   "source": [
    "# Model1 - DTC\n",
    "print(\"Decision Tree Classifier\")\n",
    "print(\"Confusion Matrix: \")\n",
    "print(confusion_matrix(y_test, pre1))\n",
    "print(\"Accuracy: \", accuracy_score(y_test, pre1)*100)\n",
    "print(\"-------------**---------------\")"
   ]
  },
  {
   "cell_type": "code",
   "execution_count": 20,
   "id": "46579bdd",
   "metadata": {
    "execution": {
     "iopub.execute_input": "2023-08-02T10:38:06.183973Z",
     "iopub.status.busy": "2023-08-02T10:38:06.182705Z",
     "iopub.status.idle": "2023-08-02T10:38:06.191283Z",
     "shell.execute_reply": "2023-08-02T10:38:06.190163Z"
    },
    "papermill": {
     "duration": 0.022099,
     "end_time": "2023-08-02T10:38:06.193951",
     "exception": false,
     "start_time": "2023-08-02T10:38:06.171852",
     "status": "completed"
    },
    "tags": []
   },
   "outputs": [
    {
     "name": "stdout",
     "output_type": "stream",
     "text": [
      "Random Forest Classifier\n",
      "Confusion Matrix: \n",
      "[[964   1]\n",
      " [ 27 123]]\n",
      "Accuracy:  97.48878923766816\n",
      "-------------**---------------\n"
     ]
    }
   ],
   "source": [
    "# Model2 - RFC\n",
    "print(\"Random Forest Classifier\")\n",
    "print(\"Confusion Matrix: \")\n",
    "print(confusion_matrix(y_test, pre2))\n",
    "print(\"Accuracy: \", accuracy_score(y_test, pre2)*100)\n",
    "print(\"-------------**---------------\")"
   ]
  },
  {
   "cell_type": "code",
   "execution_count": 21,
   "id": "78eceb79",
   "metadata": {
    "execution": {
     "iopub.execute_input": "2023-08-02T10:38:06.215567Z",
     "iopub.status.busy": "2023-08-02T10:38:06.214512Z",
     "iopub.status.idle": "2023-08-02T10:38:06.223489Z",
     "shell.execute_reply": "2023-08-02T10:38:06.222143Z"
    },
    "papermill": {
     "duration": 0.02196,
     "end_time": "2023-08-02T10:38:06.225531",
     "exception": false,
     "start_time": "2023-08-02T10:38:06.203571",
     "status": "completed"
    },
    "tags": []
   },
   "outputs": [
    {
     "name": "stdout",
     "output_type": "stream",
     "text": [
      "Multinomial Naïve Bayes\n",
      "Confusion Matrix: \n",
      "[[955  10]\n",
      " [ 10 140]]\n",
      "Accuracy:  98.20627802690582\n",
      "-------------**---------------\n"
     ]
    }
   ],
   "source": [
    "# Model3 - Multinomial Naïve Bayes\n",
    "print(\"Multinomial Naïve Bayes\")\n",
    "print(\"Confusion Matrix: \")\n",
    "print(confusion_matrix(y_test, pre3))\n",
    "print(\"Accuracy: \", accuracy_score(y_test, pre3)*100)\n",
    "print(\"-------------**---------------\")"
   ]
  },
  {
   "cell_type": "code",
   "execution_count": 22,
   "id": "4689bcb7",
   "metadata": {
    "execution": {
     "iopub.execute_input": "2023-08-02T10:38:06.246934Z",
     "iopub.status.busy": "2023-08-02T10:38:06.246263Z",
     "iopub.status.idle": "2023-08-02T10:38:06.256619Z",
     "shell.execute_reply": "2023-08-02T10:38:06.255315Z"
    },
    "papermill": {
     "duration": 0.025549,
     "end_time": "2023-08-02T10:38:06.261094",
     "exception": false,
     "start_time": "2023-08-02T10:38:06.235545",
     "status": "completed"
    },
    "tags": []
   },
   "outputs": [
    {
     "name": "stdout",
     "output_type": "stream",
     "text": [
      "Support Vector Classifier\n",
      "Confusion Matrix: \n",
      "[[965   0]\n",
      " [ 24 126]]\n",
      "Accuracy:  97.847533632287\n",
      "-------------**---------------\n"
     ]
    }
   ],
   "source": [
    "# Model4 - SVC\n",
    "print(\"Support Vector Classifier\")\n",
    "print(\"Confusion Matrix: \")\n",
    "print(confusion_matrix(y_test, pre4))\n",
    "print(\"Accuracy: \", accuracy_score(y_test, pre4)*100)\n",
    "print(\"-------------**---------------\")"
   ]
  },
  {
   "cell_type": "code",
   "execution_count": 23,
   "id": "2fd3274f",
   "metadata": {
    "execution": {
     "iopub.execute_input": "2023-08-02T10:38:06.288857Z",
     "iopub.status.busy": "2023-08-02T10:38:06.288378Z",
     "iopub.status.idle": "2023-08-02T10:38:07.008581Z",
     "shell.execute_reply": "2023-08-02T10:38:07.007380Z"
    },
    "papermill": {
     "duration": 0.736469,
     "end_time": "2023-08-02T10:38:07.010989",
     "exception": false,
     "start_time": "2023-08-02T10:38:06.274520",
     "status": "completed"
    },
    "tags": []
   },
   "outputs": [
    {
     "data": {
      "text/plain": [
       "<Axes: >"
      ]
     },
     "execution_count": 23,
     "metadata": {},
     "output_type": "execute_result"
    },
    {
     "data": {
      "image/png": "[encoded data removed]",
      "text/plain": [
       "<Figure size 640x480 with 2 Axes>"
      ]
     },
     "metadata": {},
     "output_type": "display_data"
    }
   ],
   "source": [
    "from sklearn.metrics import confusion_matrix\n",
    "email = confusion_matrix(y_test, pre2)\n",
    "import seaborn as sns\n",
    "sns.heatmap(email, annot=True,cmap='Reds')"
   ]
  },
  {
   "cell_type": "code",
   "execution_count": 24,
   "id": "87573224",
   "metadata": {
    "execution": {
     "iopub.execute_input": "2023-08-02T10:38:07.033202Z",
     "iopub.status.busy": "2023-08-02T10:38:07.032829Z",
     "iopub.status.idle": "2023-08-02T10:38:07.069070Z",
     "shell.execute_reply": "2023-08-02T10:38:07.067495Z"
    },
    "papermill": {
     "duration": 0.050383,
     "end_time": "2023-08-02T10:38:07.071557",
     "exception": false,
     "start_time": "2023-08-02T10:38:07.021174",
     "status": "completed"
    },
    "tags": []
   },
   "outputs": [
    {
     "name": "stdout",
     "output_type": "stream",
     "text": [
      "Classification Report of RFC \n",
      "               precision    recall  f1-score   support\n",
      "\n",
      "           0       0.98      0.99      0.99       965\n",
      "           1       0.95      0.85      0.90       150\n",
      "\n",
      "    accuracy                           0.97      1115\n",
      "   macro avg       0.96      0.92      0.94      1115\n",
      "weighted avg       0.97      0.97      0.97      1115\n",
      "\n",
      "Classification Report of DTC \n",
      "               precision    recall  f1-score   support\n",
      "\n",
      "           0       0.97      1.00      0.99       965\n",
      "           1       0.99      0.82      0.90       150\n",
      "\n",
      "    accuracy                           0.97      1115\n",
      "   macro avg       0.98      0.91      0.94      1115\n",
      "weighted avg       0.98      0.97      0.97      1115\n",
      "\n",
      "Classification Report of MNB \n",
      "               precision    recall  f1-score   support\n",
      "\n",
      "           0       0.99      0.99      0.99       965\n",
      "           1       0.93      0.93      0.93       150\n",
      "\n",
      "    accuracy                           0.98      1115\n",
      "   macro avg       0.96      0.96      0.96      1115\n",
      "weighted avg       0.98      0.98      0.98      1115\n",
      "\n",
      "Classification Report of SVC \n",
      "               precision    recall  f1-score   support\n",
      "\n",
      "           0       0.98      1.00      0.99       965\n",
      "           1       1.00      0.84      0.91       150\n",
      "\n",
      "    accuracy                           0.98      1115\n",
      "   macro avg       0.99      0.92      0.95      1115\n",
      "weighted avg       0.98      0.98      0.98      1115\n",
      "\n"
     ]
    }
   ],
   "source": [
    "from sklearn.metrics import classification_report\n",
    "\n",
    "rfcreport = classification_report(y_test, pre1)\n",
    "print(\"Classification Report of RFC \\n\", rfcreport)\n",
    "dtcreport = classification_report(y_test, pre2)\n",
    "print(\"Classification Report of DTC \\n\", dtcreport)\n",
    "mnbreport = classification_report(y_test, pre3)\n",
    "print(\"Classification Report of MNB \\n\", mnbreport)\n",
    "svcreport = classification_report(y_test, pre4)\n",
    "print(\"Classification Report of SVC \\n\", svcreport)"
   ]
  },
  {
   "cell_type": "code",
   "execution_count": 25,
   "id": "ad4daa9e",
   "metadata": {
    "execution": {
     "iopub.execute_input": "2023-08-02T10:38:07.093568Z",
     "iopub.status.busy": "2023-08-02T10:38:07.093148Z",
     "iopub.status.idle": "2023-08-02T10:38:07.097761Z",
     "shell.execute_reply": "2023-08-02T10:38:07.096518Z"
    },
    "papermill": {
     "duration": 0.018183,
     "end_time": "2023-08-02T10:38:07.099981",
     "exception": false,
     "start_time": "2023-08-02T10:38:07.081798",
     "status": "completed"
    },
    "tags": []
   },
   "outputs": [],
   "source": [
    "import pickle\n"
   ]
  },
  {
   "cell_type": "code",
   "execution_count": 26,
   "id": "bb894ba5",
   "metadata": {
    "execution": {
     "iopub.execute_input": "2023-08-02T10:38:07.122593Z",
     "iopub.status.busy": "2023-08-02T10:38:07.122190Z",
     "iopub.status.idle": "2023-08-02T10:38:07.212465Z",
     "shell.execute_reply": "2023-08-02T10:38:07.211048Z"
    },
    "papermill": {
     "duration": 0.104327,
     "end_time": "2023-08-02T10:38:07.214875",
     "exception": false,
     "start_time": "2023-08-02T10:38:07.110548",
     "status": "completed"
    },
    "tags": []
   },
   "outputs": [
    {
     "name": "stdout",
     "output_type": "stream",
     "text": [
      "Saved all Models\n"
     ]
    }
   ],
   "source": [
    "\n",
    "filename = \"RFC.pkl\"\n",
    "pickle.dump(rfcmodel, open(filename, 'wb'))\n",
    "filename = \"DTC.pkl\"\n",
    "pickle.dump(dtcmodel, open(filename, 'wb'))\n",
    "filename = \"MNB.pkl\"\n",
    "pickle.dump(mnbmodel, open(filename, 'wb'))\n",
    "filename = \"SVM.pkl\"\n",
    "pickle.dump(svcmodel, open(filename, 'wb'))\n",
    "print(\"Saved all Models\")"
   ]
  },
  {
   "cell_type": "code",
   "execution_count": null,
   "id": "fff6b057",
   "metadata": {
    "papermill": {
     "duration": 0.009757,
     "end_time": "2023-08-02T10:38:07.235242",
     "exception": false,
     "start_time": "2023-08-02T10:38:07.225485",
     "status": "completed"
    },
    "tags": []
   },
   "outputs": [],
   "source": []
  }
 ],
 "metadata": {
  "kernelspec": {
   "display_name": "Python 3",
   "language": "python",
   "name": "python3"
  },
  "language_info": {
   "codemirror_mode": {
    "name": "ipython",
    "version": 3
   },
   "file_extension": ".py",
   "mimetype": "text/x-python",
   "name": "python",
   "nbconvert_exporter": "python",
   "pygments_lexer": "ipython3",
   "version": "3.10.12"
  },
  "papermill": {
   "default_parameters": {},
   "duration": 71.159857,
   "end_time": "2023-08-02T10:38:08.268711",
   "environment_variables": {},
   "exception": null,
   "input_path": "__notebook__.ipynb",
   "output_path": "__notebook__.ipynb",
   "parameters": {},
   "start_time": "2023-08-02T10:36:57.108854",
   "version": "2.4.0"
  }
 },
 "nbformat": 4,
 "nbformat_minor": 5
}

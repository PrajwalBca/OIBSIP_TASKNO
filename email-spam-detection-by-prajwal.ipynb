{
 "cells": [
  {
   "cell_type": "markdown",
   "id": "2374c28a",
   "metadata": {
    "papermill": {
     "duration": 0.008113,
     "end_time": "2023-08-02T10:24:59.729260",
     "exception": false,
     "start_time": "2023-08-02T10:24:59.721147",
     "status": "completed"
    },
    "tags": []
   },
   "source": [
    "# DETECTION OF EMAIL SPAM WITH MACHINE LEARNING\n",
    "Each of us has received spam emails at some point. A sort of email known as spam mail, sometimes known as junk mail, is one that is sent to a large number of people at once and typically includes cryptic messages, con games, or—most dangerously—phishing content.\n",
    "In this project, I created an email spam detector using Python. I then trained the spam detector using machine learning to identify and categorize emails as spam or not."
   ]
  },
  {
   "cell_type": "code",
   "execution_count": 1,
   "id": "6013ee2f",
   "metadata": {
    "_cell_guid": "b1076dfc-b9ad-4769-8c92-a6c4dae69d19",
    "_uuid": "8f2839f25d086af736a60e9eeb907d3b93b6e0e5",
    "execution": {
     "iopub.execute_input": "2023-08-02T10:24:59.746775Z",
     "iopub.status.busy": "2023-08-02T10:24:59.746298Z",
     "iopub.status.idle": "2023-08-02T10:24:59.758674Z",
     "shell.execute_reply": "2023-08-02T10:24:59.757762Z"
    },
    "papermill": {
     "duration": 0.02361,
     "end_time": "2023-08-02T10:24:59.761044",
     "exception": false,
     "start_time": "2023-08-02T10:24:59.737434",
     "status": "completed"
    },
    "tags": []
   },
   "outputs": [],
   "source": [
    "#Importing the libraries\n",
    "import numpy as np\n",
    "import pandas as pd\n",
    "import matplotlib.pyplot as plt\n",
    "import warnings\n",
    "warnings.filterwarnings(\"ignore\")\n"
   ]
  },
  {
   "cell_type": "code",
   "execution_count": 2,
   "id": "ec631f77",
   "metadata": {
    "execution": {
     "iopub.execute_input": "2023-08-02T10:24:59.779875Z",
     "iopub.status.busy": "2023-08-02T10:24:59.779452Z",
     "iopub.status.idle": "2023-08-02T10:24:59.847240Z",
     "shell.execute_reply": "2023-08-02T10:24:59.845913Z"
    },
    "papermill": {
     "duration": 0.080023,
     "end_time": "2023-08-02T10:24:59.850275",
     "exception": false,
     "start_time": "2023-08-02T10:24:59.770252",
     "status": "completed"
    },
    "tags": []
   },
   "outputs": [
    {
     "data": {
      "text/html": [
       "<div>\n",
       "<style scoped>\n",
       "    .dataframe tbody tr th:only-of-type {\n",
       "        vertical-align: middle;\n",
       "    }\n",
       "\n",
       "    .dataframe tbody tr th {\n",
       "        vertical-align: top;\n",
       "    }\n",
       "\n",
       "    .dataframe thead th {\n",
       "        text-align: right;\n",
       "    }\n",
       "</style>\n",
       "<table border=\"1\" class=\"dataframe\">\n",
       "  <thead>\n",
       "    <tr style=\"text-align: right;\">\n",
       "      <th></th>\n",
       "      <th>v1</th>\n",
       "      <th>v2</th>\n",
       "      <th>Unnamed: 2</th>\n",
       "      <th>Unnamed: 3</th>\n",
       "      <th>Unnamed: 4</th>\n",
       "    </tr>\n",
       "  </thead>\n",
       "  <tbody>\n",
       "    <tr>\n",
       "      <th>0</th>\n",
       "      <td>ham</td>\n",
       "      <td>Go until jurong point, crazy.. Available only ...</td>\n",
       "      <td>NaN</td>\n",
       "      <td>NaN</td>\n",
       "      <td>NaN</td>\n",
       "    </tr>\n",
       "    <tr>\n",
       "      <th>1</th>\n",
       "      <td>ham</td>\n",
       "      <td>Ok lar... Joking wif u oni...</td>\n",
       "      <td>NaN</td>\n",
       "      <td>NaN</td>\n",
       "      <td>NaN</td>\n",
       "    </tr>\n",
       "    <tr>\n",
       "      <th>2</th>\n",
       "      <td>spam</td>\n",
       "      <td>Free entry in 2 a wkly comp to win FA Cup fina...</td>\n",
       "      <td>NaN</td>\n",
       "      <td>NaN</td>\n",
       "      <td>NaN</td>\n",
       "    </tr>\n",
       "    <tr>\n",
       "      <th>3</th>\n",
       "      <td>ham</td>\n",
       "      <td>U dun say so early hor... U c already then say...</td>\n",
       "      <td>NaN</td>\n",
       "      <td>NaN</td>\n",
       "      <td>NaN</td>\n",
       "    </tr>\n",
       "    <tr>\n",
       "      <th>4</th>\n",
       "      <td>ham</td>\n",
       "      <td>Nah I don't think he goes to usf, he lives aro...</td>\n",
       "      <td>NaN</td>\n",
       "      <td>NaN</td>\n",
       "      <td>NaN</td>\n",
       "    </tr>\n",
       "    <tr>\n",
       "      <th>...</th>\n",
       "      <td>...</td>\n",
       "      <td>...</td>\n",
       "      <td>...</td>\n",
       "      <td>...</td>\n",
       "      <td>...</td>\n",
       "    </tr>\n",
       "    <tr>\n",
       "      <th>5567</th>\n",
       "      <td>spam</td>\n",
       "      <td>This is the 2nd time we have tried 2 contact u...</td>\n",
       "      <td>NaN</td>\n",
       "      <td>NaN</td>\n",
       "      <td>NaN</td>\n",
       "    </tr>\n",
       "    <tr>\n",
       "      <th>5568</th>\n",
       "      <td>ham</td>\n",
       "      <td>Will Ì_ b going to esplanade fr home?</td>\n",
       "      <td>NaN</td>\n",
       "      <td>NaN</td>\n",
       "      <td>NaN</td>\n",
       "    </tr>\n",
       "    <tr>\n",
       "      <th>5569</th>\n",
       "      <td>ham</td>\n",
       "      <td>Pity, * was in mood for that. So...any other s...</td>\n",
       "      <td>NaN</td>\n",
       "      <td>NaN</td>\n",
       "      <td>NaN</td>\n",
       "    </tr>\n",
       "    <tr>\n",
       "      <th>5570</th>\n",
       "      <td>ham</td>\n",
       "      <td>The guy did some bitching but I acted like i'd...</td>\n",
       "      <td>NaN</td>\n",
       "      <td>NaN</td>\n",
       "      <td>NaN</td>\n",
       "    </tr>\n",
       "    <tr>\n",
       "      <th>5571</th>\n",
       "      <td>ham</td>\n",
       "      <td>Rofl. Its true to its name</td>\n",
       "      <td>NaN</td>\n",
       "      <td>NaN</td>\n",
       "      <td>NaN</td>\n",
       "    </tr>\n",
       "  </tbody>\n",
       "</table>\n",
       "<p>5572 rows × 5 columns</p>\n",
       "</div>"
      ],
      "text/plain": [
       "        v1                                                 v2 Unnamed: 2  \\\n",
       "0      ham  Go until jurong point, crazy.. Available only ...        NaN   \n",
       "1      ham                      Ok lar... Joking wif u oni...        NaN   \n",
       "2     spam  Free entry in 2 a wkly comp to win FA Cup fina...        NaN   \n",
       "3      ham  U dun say so early hor... U c already then say...        NaN   \n",
       "4      ham  Nah I don't think he goes to usf, he lives aro...        NaN   \n",
       "...    ...                                                ...        ...   \n",
       "5567  spam  This is the 2nd time we have tried 2 contact u...        NaN   \n",
       "5568   ham              Will Ì_ b going to esplanade fr home?        NaN   \n",
       "5569   ham  Pity, * was in mood for that. So...any other s...        NaN   \n",
       "5570   ham  The guy did some bitching but I acted like i'd...        NaN   \n",
       "5571   ham                         Rofl. Its true to its name        NaN   \n",
       "\n",
       "     Unnamed: 3 Unnamed: 4  \n",
       "0           NaN        NaN  \n",
       "1           NaN        NaN  \n",
       "2           NaN        NaN  \n",
       "3           NaN        NaN  \n",
       "4           NaN        NaN  \n",
       "...         ...        ...  \n",
       "5567        NaN        NaN  \n",
       "5568        NaN        NaN  \n",
       "5569        NaN        NaN  \n",
       "5570        NaN        NaN  \n",
       "5571        NaN        NaN  \n",
       "\n",
       "[5572 rows x 5 columns]"
      ]
     },
     "execution_count": 2,
     "metadata": {},
     "output_type": "execute_result"
    }
   ],
   "source": [
    "#Loading the dataset\n",
    "data = pd.read_csv(\"/kaggle/input/sms-spam-collection-dataset/spam.csv\", encoding='Latin-1')\n",
    "data"
   ]
  },
  {
   "cell_type": "code",
   "execution_count": 3,
   "id": "0869d333",
   "metadata": {
    "execution": {
     "iopub.execute_input": "2023-08-02T10:24:59.868701Z",
     "iopub.status.busy": "2023-08-02T10:24:59.868310Z",
     "iopub.status.idle": "2023-08-02T10:25:00.255134Z",
     "shell.execute_reply": "2023-08-02T10:25:00.253762Z"
    },
    "papermill": {
     "duration": 0.398092,
     "end_time": "2023-08-02T10:25:00.257193",
     "exception": true,
     "start_time": "2023-08-02T10:24:59.859101",
     "status": "failed"
    },
    "tags": []
   },
   "outputs": [
    {
     "ename": "NameError",
     "evalue": "name 'stopwords' is not defined",
     "output_type": "error",
     "traceback": [
      "\u001b[0;31m---------------------------------------------------------------------------\u001b[0m",
      "\u001b[0;31mNameError\u001b[0m                                 Traceback (most recent call last)",
      "Cell \u001b[0;32mIn[3], line 1\u001b[0m\n\u001b[0;32m----> 1\u001b[0m stop_words\u001b[38;5;241m=\u001b[39m\u001b[43mstopwords\u001b[49m\u001b[38;5;241m.\u001b[39mwords(\u001b[38;5;124m'\u001b[39m\u001b[38;5;124menglish\u001b[39m\u001b[38;5;124m'\u001b[39m)\n\u001b[1;32m      2\u001b[0m \u001b[38;5;28mprint\u001b[39m(stop_words)\n",
      "\u001b[0;31mNameError\u001b[0m: name 'stopwords' is not defined"
     ]
    }
   ],
   "source": [
    "stop_words=stopwords.words('english')\n",
    "print(stop_words)"
   ]
  },
  {
   "cell_type": "code",
   "execution_count": null,
   "id": "1f8b9921",
   "metadata": {
    "execution": {
     "iopub.execute_input": "2023-08-02T10:14:05.502331Z",
     "iopub.status.busy": "2023-08-02T10:14:05.501937Z",
     "iopub.status.idle": "2023-08-02T10:14:05.516388Z",
     "shell.execute_reply": "2023-08-02T10:14:05.514616Z",
     "shell.execute_reply.started": "2023-08-02T10:14:05.502301Z"
    },
    "papermill": {
     "duration": null,
     "end_time": null,
     "exception": null,
     "start_time": null,
     "status": "pending"
    },
    "tags": []
   },
   "outputs": [],
   "source": [
    "data.head()"
   ]
  },
  {
   "cell_type": "code",
   "execution_count": null,
   "id": "bd91628e",
   "metadata": {
    "execution": {
     "iopub.execute_input": "2023-08-02T10:14:13.501446Z",
     "iopub.status.busy": "2023-08-02T10:14:13.500425Z",
     "iopub.status.idle": "2023-08-02T10:14:13.538382Z",
     "shell.execute_reply": "2023-08-02T10:14:13.537446Z",
     "shell.execute_reply.started": "2023-08-02T10:14:13.501405Z"
    },
    "papermill": {
     "duration": null,
     "end_time": null,
     "exception": null,
     "start_time": null,
     "status": "pending"
    },
    "tags": []
   },
   "outputs": [],
   "source": [
    "data.info()"
   ]
  },
  {
   "cell_type": "code",
   "execution_count": null,
   "id": "fdaa1cae",
   "metadata": {
    "execution": {
     "iopub.execute_input": "2023-08-02T10:14:22.740852Z",
     "iopub.status.busy": "2023-08-02T10:14:22.739225Z",
     "iopub.status.idle": "2023-08-02T10:14:22.777066Z",
     "shell.execute_reply": "2023-08-02T10:14:22.775976Z",
     "shell.execute_reply.started": "2023-08-02T10:14:22.740781Z"
    },
    "papermill": {
     "duration": null,
     "end_time": null,
     "exception": null,
     "start_time": null,
     "status": "pending"
    },
    "tags": []
   },
   "outputs": [],
   "source": [
    "data.describe()"
   ]
  },
  {
   "cell_type": "code",
   "execution_count": null,
   "id": "387a1730",
   "metadata": {
    "execution": {
     "iopub.execute_input": "2023-08-02T10:14:29.786862Z",
     "iopub.status.busy": "2023-08-02T10:14:29.786444Z",
     "iopub.status.idle": "2023-08-02T10:14:29.810026Z",
     "shell.execute_reply": "2023-08-02T10:14:29.808457Z",
     "shell.execute_reply.started": "2023-08-02T10:14:29.786831Z"
    },
    "papermill": {
     "duration": null,
     "end_time": null,
     "exception": null,
     "start_time": null,
     "status": "pending"
    },
    "tags": []
   },
   "outputs": [],
   "source": [
    "data.isnull().sum()"
   ]
  },
  {
   "cell_type": "code",
   "execution_count": null,
   "id": "e1c0518c",
   "metadata": {
    "execution": {
     "iopub.execute_input": "2023-08-02T10:14:42.984867Z",
     "iopub.status.busy": "2023-08-02T10:14:42.984454Z",
     "iopub.status.idle": "2023-08-02T10:14:43.000178Z",
     "shell.execute_reply": "2023-08-02T10:14:42.998537Z",
     "shell.execute_reply.started": "2023-08-02T10:14:42.984832Z"
    },
    "papermill": {
     "duration": null,
     "end_time": null,
     "exception": null,
     "start_time": null,
     "status": "pending"
    },
    "tags": []
   },
   "outputs": [],
   "source": [
    "data = data[['v1', 'v2']]\n",
    "data.columns = ['type', 'message']\n",
    "data.head()"
   ]
  },
  {
   "cell_type": "code",
   "execution_count": null,
   "id": "c354c910",
   "metadata": {
    "execution": {
     "iopub.execute_input": "2023-08-02T10:15:06.589605Z",
     "iopub.status.busy": "2023-08-02T10:15:06.589180Z",
     "iopub.status.idle": "2023-08-02T10:15:06.601863Z",
     "shell.execute_reply": "2023-08-02T10:15:06.600551Z",
     "shell.execute_reply.started": "2023-08-02T10:15:06.589573Z"
    },
    "papermill": {
     "duration": null,
     "end_time": null,
     "exception": null,
     "start_time": null,
     "status": "pending"
    },
    "tags": []
   },
   "outputs": [],
   "source": [
    "data.groupby('type').size()"
   ]
  },
  {
   "cell_type": "markdown",
   "id": "73c758d2",
   "metadata": {
    "papermill": {
     "duration": null,
     "end_time": null,
     "exception": null,
     "start_time": null,
     "status": "pending"
    },
    "tags": []
   },
   "source": [
    "# Data Vizualisation"
   ]
  },
  {
   "cell_type": "code",
   "execution_count": null,
   "id": "eae1512d",
   "metadata": {
    "execution": {
     "iopub.execute_input": "2023-08-02T10:15:37.498767Z",
     "iopub.status.busy": "2023-08-02T10:15:37.498380Z",
     "iopub.status.idle": "2023-08-02T10:15:37.788452Z",
     "shell.execute_reply": "2023-08-02T10:15:37.786896Z",
     "shell.execute_reply.started": "2023-08-02T10:15:37.498738Z"
    },
    "papermill": {
     "duration": null,
     "end_time": null,
     "exception": null,
     "start_time": null,
     "status": "pending"
    },
    "tags": []
   },
   "outputs": [],
   "source": [
    "data['type'].value_counts().plot(kind='barh', color= 'purple')"
   ]
  },
  {
   "cell_type": "markdown",
   "id": "5174303a",
   "metadata": {
    "papermill": {
     "duration": null,
     "end_time": null,
     "exception": null,
     "start_time": null,
     "status": "pending"
    },
    "tags": []
   },
   "source": [
    "## Natural Language Processing\n",
    "\n",
    "## Text Preprocessing and Stemming"
   ]
  },
  {
   "cell_type": "code",
   "execution_count": null,
   "id": "27596542",
   "metadata": {
    "execution": {
     "iopub.execute_input": "2023-08-02T10:16:13.156050Z",
     "iopub.status.busy": "2023-08-02T10:16:13.155675Z",
     "iopub.status.idle": "2023-08-02T10:16:13.163364Z",
     "shell.execute_reply": "2023-08-02T10:16:13.161995Z",
     "shell.execute_reply.started": "2023-08-02T10:16:13.156020Z"
    },
    "papermill": {
     "duration": null,
     "end_time": null,
     "exception": null,
     "start_time": null,
     "status": "pending"
    },
    "tags": []
   },
   "outputs": [],
   "source": [
    "#Importing the libraries\n",
    "import re\n",
    "import nltk\n",
    "#Download the Stopwords from nltk\n",
    "nltk.download('stopwords')\n",
    "from nltk.corpus import stopwords\n",
    "#Using PorterStemmer for Stemming the Words\n",
    "from nltk.stem.porter import PorterStemmer"
   ]
  },
  {
   "cell_type": "code",
   "execution_count": null,
   "id": "3d00f49a",
   "metadata": {
    "execution": {
     "iopub.execute_input": "2023-08-02T10:16:23.101565Z",
     "iopub.status.busy": "2023-08-02T10:16:23.101179Z",
     "iopub.status.idle": "2023-08-02T10:16:37.670617Z",
     "shell.execute_reply": "2023-08-02T10:16:37.669463Z",
     "shell.execute_reply.started": "2023-08-02T10:16:23.101535Z"
    },
    "papermill": {
     "duration": null,
     "end_time": null,
     "exception": null,
     "start_time": null,
     "status": "pending"
    },
    "tags": []
   },
   "outputs": [],
   "source": [
    "stem1 = PorterStemmer()\n",
    "corpus = []\n",
    "for i in range(0, len(data)):\n",
    "    show = re.sub('[^a-zA-Z]', ' ', data['message'][i])\n",
    "    show = show.lower()\n",
    "    show = show.split()\n",
    "    show = [stem1.stem(word) for word in show if not word in stopwords.words('english')]\n",
    "    show = ' '.join(show)\n",
    "    corpus.append(show)\n",
    "\n",
    "#Printing the first 6 values in the corpus list\n",
    "corpus[1:7]"
   ]
  },
  {
   "cell_type": "code",
   "execution_count": null,
   "id": "303df725",
   "metadata": {
    "execution": {
     "iopub.execute_input": "2023-08-02T10:17:29.304157Z",
     "iopub.status.busy": "2023-08-02T10:17:29.303739Z",
     "iopub.status.idle": "2023-08-02T10:17:29.309941Z",
     "shell.execute_reply": "2023-08-02T10:17:29.308553Z",
     "shell.execute_reply.started": "2023-08-02T10:17:29.304118Z"
    },
    "papermill": {
     "duration": null,
     "end_time": null,
     "exception": null,
     "start_time": null,
     "status": "pending"
    },
    "tags": []
   },
   "outputs": [],
   "source": [
    "from sklearn.feature_extraction.text import CountVectorizer"
   ]
  },
  {
   "cell_type": "code",
   "execution_count": null,
   "id": "6dfe8a69",
   "metadata": {
    "execution": {
     "iopub.execute_input": "2023-08-02T10:17:44.933694Z",
     "iopub.status.busy": "2023-08-02T10:17:44.933182Z",
     "iopub.status.idle": "2023-08-02T10:17:52.282314Z",
     "shell.execute_reply": "2023-08-02T10:17:52.281122Z",
     "shell.execute_reply.started": "2023-08-02T10:17:44.933649Z"
    },
    "papermill": {
     "duration": null,
     "end_time": null,
     "exception": null,
     "start_time": null,
     "status": "pending"
    },
    "tags": []
   },
   "outputs": [],
   "source": [
    "count1 = CountVectorizer(max_features = 4000)\n",
    "X = count1.fit_transform(corpus).toarray()\n",
    "Y = pd.get_dummies(data['type'])\n",
    "Y = Y.iloc[:, 1].values\n",
    "from sklearn.model_selection import train_test_split\n",
    "from sklearn.tree import DecisionTreeClassifier\n",
    "from sklearn.ensemble import RandomForestClassifier\n",
    "from sklearn.naive_bayes import MultinomialNB\n",
    "from sklearn.svm import SVC\n",
    "\n",
    "from sklearn.metrics import confusion_matrix\n",
    "from sklearn.metrics import accuracy_score\n",
    "x_train, x_test, y_train, y_test = train_test_split(X, Y, test_size = 0.20, random_state=42)\n",
    "\n"
   ]
  },
  {
   "cell_type": "markdown",
   "id": "b2ed4612",
   "metadata": {
    "papermill": {
     "duration": null,
     "end_time": null,
     "exception": null,
     "start_time": null,
     "status": "pending"
    },
    "tags": []
   },
   "source": [
    "### DecisionTreeClassifier()"
   ]
  },
  {
   "cell_type": "code",
   "execution_count": null,
   "id": "0824cbfa",
   "metadata": {
    "execution": {
     "iopub.execute_input": "2023-08-02T10:18:17.190371Z",
     "iopub.status.busy": "2023-08-02T10:18:17.189952Z",
     "iopub.status.idle": "2023-08-02T10:18:23.786666Z",
     "shell.execute_reply": "2023-08-02T10:18:23.785480Z",
     "shell.execute_reply.started": "2023-08-02T10:18:17.190336Z"
    },
    "papermill": {
     "duration": null,
     "end_time": null,
     "exception": null,
     "start_time": null,
     "status": "pending"
    },
    "tags": []
   },
   "outputs": [],
   "source": [
    "# Model 1 - DecisionTreeClassifier\n",
    "dtcmodel= DecisionTreeClassifier()\n",
    "dtcmodel.fit(x_train, y_train)"
   ]
  },
  {
   "cell_type": "code",
   "execution_count": null,
   "id": "6fbf140d",
   "metadata": {
    "execution": {
     "iopub.execute_input": "2023-08-02T10:18:50.252395Z",
     "iopub.status.busy": "2023-08-02T10:18:50.252008Z",
     "iopub.status.idle": "2023-08-02T10:19:03.471450Z",
     "shell.execute_reply": "2023-08-02T10:19:03.470469Z",
     "shell.execute_reply.started": "2023-08-02T10:18:50.252366Z"
    },
    "papermill": {
     "duration": null,
     "end_time": null,
     "exception": null,
     "start_time": null,
     "status": "pending"
    },
    "tags": []
   },
   "outputs": [],
   "source": [
    "# Model 2 - RandomForestClassifier\n",
    "rfcmodel= RandomForestClassifier()\n",
    "rfcmodel.fit(x_train, y_train)\n",
    "RandomForestClassifier()"
   ]
  },
  {
   "cell_type": "code",
   "execution_count": null,
   "id": "b93f8bad",
   "metadata": {
    "execution": {
     "iopub.execute_input": "2023-08-02T10:18:48.915669Z",
     "iopub.status.busy": "2023-08-02T10:18:48.915278Z",
     "iopub.status.idle": "2023-08-02T10:18:49.107316Z",
     "shell.execute_reply": "2023-08-02T10:18:49.105423Z",
     "shell.execute_reply.started": "2023-08-02T10:18:48.915634Z"
    },
    "papermill": {
     "duration": null,
     "end_time": null,
     "exception": null,
     "start_time": null,
     "status": "pending"
    },
    "tags": []
   },
   "outputs": [],
   "source": [
    "# Model 3 - Multinomial Naïve Bayes\n",
    "mnbmodel= MultinomialNB()\n",
    "mnbmodel.fit(x_train, y_train)\n",
    "MultinomialNB()"
   ]
  },
  {
   "cell_type": "code",
   "execution_count": null,
   "id": "0e0bd8de",
   "metadata": {
    "execution": {
     "iopub.execute_input": "2023-08-02T10:19:03.473990Z",
     "iopub.status.busy": "2023-08-02T10:19:03.473212Z",
     "iopub.status.idle": "2023-08-02T10:19:22.857295Z",
     "shell.execute_reply": "2023-08-02T10:19:22.856007Z",
     "shell.execute_reply.started": "2023-08-02T10:19:03.473957Z"
    },
    "papermill": {
     "duration": null,
     "end_time": null,
     "exception": null,
     "start_time": null,
     "status": "pending"
    },
    "tags": []
   },
   "outputs": [],
   "source": [
    "# Model 4 - SVC\n",
    "svcmodel= SVC()\n",
    "svcmodel.fit(x_train, y_train)"
   ]
  },
  {
   "cell_type": "code",
   "execution_count": null,
   "id": "37b584d9",
   "metadata": {
    "execution": {
     "iopub.execute_input": "2023-08-02T10:21:31.338891Z",
     "iopub.status.busy": "2023-08-02T10:21:31.338505Z",
     "iopub.status.idle": "2023-08-02T10:21:38.756035Z",
     "shell.execute_reply": "2023-08-02T10:21:38.755167Z",
     "shell.execute_reply.started": "2023-08-02T10:21:31.338861Z"
    },
    "papermill": {
     "duration": null,
     "end_time": null,
     "exception": null,
     "start_time": null,
     "status": "pending"
    },
    "tags": []
   },
   "outputs": [],
   "source": [
    "pre1 = dtcmodel.predict(x_test)\n",
    "pre2 = rfcmodel.predict(x_test)\n",
    "pre3 = mnbmodel.predict(x_test)\n",
    "pre4 = svcmodel.predict(x_test)"
   ]
  },
  {
   "cell_type": "code",
   "execution_count": null,
   "id": "11ab0e92",
   "metadata": {
    "execution": {
     "iopub.execute_input": "2023-08-02T10:21:49.292795Z",
     "iopub.status.busy": "2023-08-02T10:21:49.292367Z",
     "iopub.status.idle": "2023-08-02T10:21:49.304113Z",
     "shell.execute_reply": "2023-08-02T10:21:49.303009Z",
     "shell.execute_reply.started": "2023-08-02T10:21:49.292760Z"
    },
    "papermill": {
     "duration": null,
     "end_time": null,
     "exception": null,
     "start_time": null,
     "status": "pending"
    },
    "tags": []
   },
   "outputs": [],
   "source": [
    "# Model1 - DTC\n",
    "print(\"Decision Tree Classifier\")\n",
    "print(\"Confusion Matrix: \")\n",
    "print(confusion_matrix(y_test, pre1))\n",
    "print(\"Accuracy: \", accuracy_score(y_test, pre1)*100)\n",
    "print(\"-------------**---------------\")"
   ]
  },
  {
   "cell_type": "code",
   "execution_count": null,
   "id": "1d694905",
   "metadata": {
    "execution": {
     "iopub.execute_input": "2023-08-02T10:21:53.441142Z",
     "iopub.status.busy": "2023-08-02T10:21:53.440721Z",
     "iopub.status.idle": "2023-08-02T10:21:53.453033Z",
     "shell.execute_reply": "2023-08-02T10:21:53.451719Z",
     "shell.execute_reply.started": "2023-08-02T10:21:53.441110Z"
    },
    "papermill": {
     "duration": null,
     "end_time": null,
     "exception": null,
     "start_time": null,
     "status": "pending"
    },
    "tags": []
   },
   "outputs": [],
   "source": [
    "# Model2 - RFC\n",
    "print(\"Random Forest Classifier\")\n",
    "print(\"Confusion Matrix: \")\n",
    "print(confusion_matrix(y_test, pre2))\n",
    "print(\"Accuracy: \", accuracy_score(y_test, pre2)*100)\n",
    "print(\"-------------**---------------\")"
   ]
  },
  {
   "cell_type": "code",
   "execution_count": null,
   "id": "c8ddcfe6",
   "metadata": {
    "execution": {
     "iopub.execute_input": "2023-08-02T10:22:01.510391Z",
     "iopub.status.busy": "2023-08-02T10:22:01.509968Z",
     "iopub.status.idle": "2023-08-02T10:22:01.521801Z",
     "shell.execute_reply": "2023-08-02T10:22:01.520260Z",
     "shell.execute_reply.started": "2023-08-02T10:22:01.510359Z"
    },
    "papermill": {
     "duration": null,
     "end_time": null,
     "exception": null,
     "start_time": null,
     "status": "pending"
    },
    "tags": []
   },
   "outputs": [],
   "source": [
    "# Model3 - Multinomial Naïve Bayes\n",
    "print(\"Multinomial Naïve Bayes\")\n",
    "print(\"Confusion Matrix: \")\n",
    "print(confusion_matrix(y_test, pre3))\n",
    "print(\"Accuracy: \", accuracy_score(y_test, pre3)*100)\n",
    "print(\"-------------**---------------\")"
   ]
  },
  {
   "cell_type": "code",
   "execution_count": null,
   "id": "111a385c",
   "metadata": {
    "execution": {
     "iopub.execute_input": "2023-08-02T10:22:09.318780Z",
     "iopub.status.busy": "2023-08-02T10:22:09.318341Z",
     "iopub.status.idle": "2023-08-02T10:22:09.329954Z",
     "shell.execute_reply": "2023-08-02T10:22:09.328640Z",
     "shell.execute_reply.started": "2023-08-02T10:22:09.318745Z"
    },
    "papermill": {
     "duration": null,
     "end_time": null,
     "exception": null,
     "start_time": null,
     "status": "pending"
    },
    "tags": []
   },
   "outputs": [],
   "source": [
    "# Model4 - SVC\n",
    "print(\"Support Vector Classifier\")\n",
    "print(\"Confusion Matrix: \")\n",
    "print(confusion_matrix(y_test, pre4))\n",
    "print(\"Accuracy: \", accuracy_score(y_test, pre4)*100)\n",
    "print(\"-------------**---------------\")"
   ]
  },
  {
   "cell_type": "code",
   "execution_count": null,
   "id": "844b87e6",
   "metadata": {
    "execution": {
     "iopub.execute_input": "2023-08-02T10:22:35.807381Z",
     "iopub.status.busy": "2023-08-02T10:22:35.806943Z",
     "iopub.status.idle": "2023-08-02T10:22:36.110070Z",
     "shell.execute_reply": "2023-08-02T10:22:36.108679Z",
     "shell.execute_reply.started": "2023-08-02T10:22:35.807346Z"
    },
    "papermill": {
     "duration": null,
     "end_time": null,
     "exception": null,
     "start_time": null,
     "status": "pending"
    },
    "tags": []
   },
   "outputs": [],
   "source": [
    "from sklearn.metrics import confusion_matrix\n",
    "email = confusion_matrix(y_test, pre2)\n",
    "import seaborn as sns\n",
    "sns.heatmap(email, annot=True,cmap='Reds')"
   ]
  },
  {
   "cell_type": "code",
   "execution_count": null,
   "id": "c493c0d4",
   "metadata": {
    "execution": {
     "iopub.execute_input": "2023-08-02T10:23:04.789799Z",
     "iopub.status.busy": "2023-08-02T10:23:04.789338Z",
     "iopub.status.idle": "2023-08-02T10:23:04.840026Z",
     "shell.execute_reply": "2023-08-02T10:23:04.838848Z",
     "shell.execute_reply.started": "2023-08-02T10:23:04.789761Z"
    },
    "papermill": {
     "duration": null,
     "end_time": null,
     "exception": null,
     "start_time": null,
     "status": "pending"
    },
    "tags": []
   },
   "outputs": [],
   "source": [
    "from sklearn.metrics import classification_report\n",
    "\n",
    "rfcreport = classification_report(y_test, pre1)\n",
    "print(\"Classification Report of RFC \\n\", rfcreport)\n",
    "dtcreport = classification_report(y_test, pre2)\n",
    "print(\"Classification Report of DTC \\n\", dtcreport)\n",
    "mnbreport = classification_report(y_test, pre3)\n",
    "print(\"Classification Report of MNB \\n\", mnbreport)\n",
    "svcreport = classification_report(y_test, pre4)\n",
    "print(\"Classification Report of SVC \\n\", svcreport)"
   ]
  },
  {
   "cell_type": "code",
   "execution_count": null,
   "id": "317fda43",
   "metadata": {
    "execution": {
     "iopub.execute_input": "2023-08-02T10:23:26.456250Z",
     "iopub.status.busy": "2023-08-02T10:23:26.455812Z",
     "iopub.status.idle": "2023-08-02T10:23:26.462136Z",
     "shell.execute_reply": "2023-08-02T10:23:26.460778Z",
     "shell.execute_reply.started": "2023-08-02T10:23:26.456217Z"
    },
    "papermill": {
     "duration": null,
     "end_time": null,
     "exception": null,
     "start_time": null,
     "status": "pending"
    },
    "tags": []
   },
   "outputs": [],
   "source": [
    "import pickle\n"
   ]
  },
  {
   "cell_type": "code",
   "execution_count": null,
   "id": "68dd0172",
   "metadata": {
    "execution": {
     "iopub.execute_input": "2023-08-02T10:23:27.918352Z",
     "iopub.status.busy": "2023-08-02T10:23:27.917951Z",
     "iopub.status.idle": "2023-08-02T10:23:28.023519Z",
     "shell.execute_reply": "2023-08-02T10:23:28.022297Z",
     "shell.execute_reply.started": "2023-08-02T10:23:27.918321Z"
    },
    "papermill": {
     "duration": null,
     "end_time": null,
     "exception": null,
     "start_time": null,
     "status": "pending"
    },
    "tags": []
   },
   "outputs": [],
   "source": [
    "\n",
    "filename = \"RFC.pkl\"\n",
    "pickle.dump(rfcmodel, open(filename, 'wb'))\n",
    "filename = \"DTC.pkl\"\n",
    "pickle.dump(dtcmodel, open(filename, 'wb'))\n",
    "filename = \"MNB.pkl\"\n",
    "pickle.dump(mnbmodel, open(filename, 'wb'))\n",
    "filename = \"SVM.pkl\"\n",
    "pickle.dump(svcmodel, open(filename, 'wb'))\n",
    "print(\"Saved all Models\")"
   ]
  },
  {
   "cell_type": "code",
   "execution_count": null,
   "id": "bd755c9d",
   "metadata": {
    "papermill": {
     "duration": null,
     "end_time": null,
     "exception": null,
     "start_time": null,
     "status": "pending"
    },
    "tags": []
   },
   "outputs": [],
   "source": []
  }
 ],
 "metadata": {
  "kernelspec": {
   "display_name": "Python 3",
   "language": "python",
   "name": "python3"
  },
  "language_info": {
   "codemirror_mode": {
    "name": "ipython",
    "version": 3
   },
   "file_extension": ".py",
   "mimetype": "text/x-python",
   "name": "python",
   "nbconvert_exporter": "python",
   "pygments_lexer": "ipython3",
   "version": "3.10.12"
  },
  "papermill": {
   "default_parameters": {},
   "duration": 12.313848,
   "end_time": "2023-08-02T10:25:01.187787",
   "environment_variables": {},
   "exception": true,
   "input_path": "__notebook__.ipynb",
   "output_path": "__notebook__.ipynb",
   "parameters": {},
   "start_time": "2023-08-02T10:24:48.873939",
   "version": "2.4.0"
  }
 },
 "nbformat": 4,
 "nbformat_minor": 5
}
